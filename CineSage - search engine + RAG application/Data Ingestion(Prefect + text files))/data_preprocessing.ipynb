{
 "cells": [
  {
   "cell_type": "markdown",
   "id": "32df54d3-c60d-4b29-a183-59841795a650",
   "metadata": {},
   "source": [
    "# Preprocessing the files from database into subtitles folder"
   ]
  },
  {
   "cell_type": "code",
   "execution_count": 1,
   "id": "64926e1b-1890-4cdf-bb9b-c8d35fa24c38",
   "metadata": {},
   "outputs": [],
   "source": [
    "import pandas as pd\n",
    "import numpy as np\n",
    "import sqlite3\n",
    "import zipfile\n",
    "import io"
   ]
  },
  {
   "cell_type": "code",
   "execution_count": 2,
   "id": "d042b31d-c92d-4e69-aff4-13845acda84c",
   "metadata": {},
   "outputs": [],
   "source": [
    "conn = sqlite3.connect('eng_subtitles_database.db')\n",
    "\n",
    "# SQL query\n",
    "query = \"SELECT num, name, content FROM zipfiles\""
   ]
  },
  {
   "cell_type": "code",
   "execution_count": 3,
   "id": "6e59292a-5450-4eaf-84b1-4cd9ea2ac672",
   "metadata": {},
   "outputs": [
    {
     "data": {
      "text/html": [
       "<div>\n",
       "<style scoped>\n",
       "    .dataframe tbody tr th:only-of-type {\n",
       "        vertical-align: middle;\n",
       "    }\n",
       "\n",
       "    .dataframe tbody tr th {\n",
       "        vertical-align: top;\n",
       "    }\n",
       "\n",
       "    .dataframe thead th {\n",
       "        text-align: right;\n",
       "    }\n",
       "</style>\n",
       "<table border=\"1\" class=\"dataframe\">\n",
       "  <thead>\n",
       "    <tr style=\"text-align: right;\">\n",
       "      <th></th>\n",
       "      <th>num</th>\n",
       "      <th>name</th>\n",
       "      <th>content</th>\n",
       "    </tr>\n",
       "  </thead>\n",
       "  <tbody>\n",
       "    <tr>\n",
       "      <th>0</th>\n",
       "      <td>9180533</td>\n",
       "      <td>the.message.(1976).eng.1cd</td>\n",
       "      <td>b'PK\\x03\\x04\\x14\\x00\\x00\\x00\\x08\\x00\\x1c\\xa9\\x...</td>\n",
       "    </tr>\n",
       "    <tr>\n",
       "      <th>1</th>\n",
       "      <td>9180583</td>\n",
       "      <td>here.comes.the.grump.s01.e09.joltin.jack.in.bo...</td>\n",
       "      <td>b'PK\\x03\\x04\\x14\\x00\\x00\\x00\\x08\\x00\\x17\\xb9\\x...</td>\n",
       "    </tr>\n",
       "    <tr>\n",
       "      <th>2</th>\n",
       "      <td>9180592</td>\n",
       "      <td>yumis.cells.s02.e13.episode.2.13.(2022).eng.1cd</td>\n",
       "      <td>b'PK\\x03\\x04\\x14\\x00\\x00\\x00\\x08\\x00L\\xb9\\x99V...</td>\n",
       "    </tr>\n",
       "    <tr>\n",
       "      <th>3</th>\n",
       "      <td>9180594</td>\n",
       "      <td>yumis.cells.s02.e14.episode.2.14.(2022).eng.1cd</td>\n",
       "      <td>b'PK\\x03\\x04\\x14\\x00\\x00\\x00\\x08\\x00U\\xa9\\x99V...</td>\n",
       "    </tr>\n",
       "    <tr>\n",
       "      <th>4</th>\n",
       "      <td>9180600</td>\n",
       "      <td>broker.(2022).eng.1cd</td>\n",
       "      <td>b'PK\\x03\\x04\\x14\\x00\\x00\\x00\\x08\\x001\\xa9\\x99V...</td>\n",
       "    </tr>\n",
       "  </tbody>\n",
       "</table>\n",
       "</div>"
      ],
      "text/plain": [
       "       num                                               name  \\\n",
       "0  9180533                         the.message.(1976).eng.1cd   \n",
       "1  9180583  here.comes.the.grump.s01.e09.joltin.jack.in.bo...   \n",
       "2  9180592    yumis.cells.s02.e13.episode.2.13.(2022).eng.1cd   \n",
       "3  9180594    yumis.cells.s02.e14.episode.2.14.(2022).eng.1cd   \n",
       "4  9180600                              broker.(2022).eng.1cd   \n",
       "\n",
       "                                             content  \n",
       "0  b'PK\\x03\\x04\\x14\\x00\\x00\\x00\\x08\\x00\\x1c\\xa9\\x...  \n",
       "1  b'PK\\x03\\x04\\x14\\x00\\x00\\x00\\x08\\x00\\x17\\xb9\\x...  \n",
       "2  b'PK\\x03\\x04\\x14\\x00\\x00\\x00\\x08\\x00L\\xb9\\x99V...  \n",
       "3  b'PK\\x03\\x04\\x14\\x00\\x00\\x00\\x08\\x00U\\xa9\\x99V...  \n",
       "4  b'PK\\x03\\x04\\x14\\x00\\x00\\x00\\x08\\x001\\xa9\\x99V...  "
      ]
     },
     "execution_count": 3,
     "metadata": {},
     "output_type": "execute_result"
    }
   ],
   "source": [
    "df = pd.read_sql_query(query, conn)\n",
    "df.head()"
   ]
  },
  {
   "cell_type": "code",
   "execution_count": 4,
   "id": "5a3a48a1-9da8-499b-b006-5414528c9018",
   "metadata": {},
   "outputs": [
    {
     "name": "stdout",
     "output_type": "stream",
     "text": [
      "<class 'pandas.core.frame.DataFrame'>\n",
      "RangeIndex: 82498 entries, 0 to 82497\n",
      "Data columns (total 3 columns):\n",
      " #   Column   Non-Null Count  Dtype \n",
      "---  ------   --------------  ----- \n",
      " 0   num      82498 non-null  int64 \n",
      " 1   name     82498 non-null  object\n",
      " 2   content  82498 non-null  object\n",
      "dtypes: int64(1), object(2)\n",
      "memory usage: 1.9+ MB\n"
     ]
    }
   ],
   "source": [
    "df.info()"
   ]
  },
  {
   "cell_type": "code",
   "execution_count": 15,
   "id": "e34b14f3",
   "metadata": {},
   "outputs": [],
   "source": [
    "import re\n",
    "def clean_filename(filename):\n",
    "    # Remove extension and language/version info\n",
    "    filename = re.sub(r\"\\.\\w+$\", \"\", filename)  # Removes .1cd\n",
    "    # Replace dots and underscores with spaces\n",
    "    filename = re.sub(r\"[\\._]\", \" \", filename)\n",
    "    # Remove year and parentheses\n",
    "    filename = re.sub(r\"\\(\\d{4}\\)\", \"\", filename)\n",
    "    # Remove eng\n",
    "    filename = re.sub(r\" eng\", \" \", filename)\n",
    "    \n",
    "    return filename.strip().lower()\n",
    "\n",
    "df[\"name\"] = df[\"name\"].apply(clean_filename)"
   ]
  },
  {
   "cell_type": "code",
   "execution_count": 18,
   "id": "44bf6b95",
   "metadata": {},
   "outputs": [
    {
     "data": {
      "text/plain": [
       "'nature s35 e12 yosemite'"
      ]
     },
     "execution_count": 18,
     "metadata": {},
     "output_type": "execute_result"
    }
   ],
   "source": [
    "df['name'][40000]"
   ]
  },
  {
   "cell_type": "code",
   "execution_count": 19,
   "id": "8bfcd961",
   "metadata": {},
   "outputs": [],
   "source": [
    "#saving ids and name for keyword retrieval\n",
    "df = df.drop(columns=['content'])\n",
    "df.to_csv('subtiles_id_names.csv', index=False)"
   ]
  },
  {
   "cell_type": "code",
   "execution_count": 5,
   "id": "6c58024e-4a25-4e5c-a411-38a496e6fb43",
   "metadata": {},
   "outputs": [],
   "source": [
    "def extract_and_decode(binary_data):\n",
    "    '''\n",
    "    Function to extract content from binary zip file and decode it\n",
    "    '''\n",
    "    try:\n",
    "        # Create a BytesIO object from the binary data\n",
    "        with io.BytesIO(binary_data) as f:\n",
    "           \n",
    "            with zipfile.ZipFile(f, 'r') as zip_file:\n",
    "            \n",
    "                subtitle_content = zip_file.read(zip_file.namelist()[0])\n",
    "                \n",
    "        # Decode the content using 'latin-1' encoding\n",
    "        decoded_content = subtitle_content.decode('latin-1')\n",
    "        return decoded_content\n",
    "        \n",
    "    except Exception as e:\n",
    "        return f\"Extraction failed with error: {str(e)}\""
   ]
  },
  {
   "cell_type": "code",
   "execution_count": 6,
   "id": "7ee82d00-39a6-4cea-922f-bc2fdd6c31b9",
   "metadata": {
    "scrolled": true
   },
   "outputs": [
    {
     "data": {
      "text/plain": [
       "b'PK\\x03\\x04\\x14\\x00\\x00\\x00\\x08\\x00\\x17\\xb9\\x99V\\x12o\\xb0\\xc2g\\x0f\\x00\\x00Z$\\x00\\x008\\x00\\x00\\x00Here Comes the Grump - Ep. 9 - Joltin_ Jack-in boxia.srtuZ]s\\x1b7\\x96}g\\x15\\xff\\x03\\xf4\\xe4\\x97\\x96\\xa6\\xbf\\xd0\\x1f\\xaeT\\\\v\\xb2\\xb15\\xc9lf\\xc6N\\xa9\\xfc\\xd8\"A\\xb1Gd7\\xb7\\xbb)\\x86\\xff~\\xcf\\xb9h@hm\\xb6*e\\xc5\\xa4ppqq\\xee\\xb9\\x1fp\\xb2^\\xc5\\xf1{\\xfc\\x97\\xd6Q\\xa6ku{\\xfb\\xa3\\xb2\\x1fdi\\x14\\xe7\\xd5z\\xf5q\\x7f\\xa3\\xbe\\xed\\xcd`\\xde\\x8d\\xea\\x9fC\\xdbm\\xcc8\\xaeW?7\\x97N5\\xddV}3\\xc3pU\\x97v\\xda\\xabio\\xd6\\xab\\xf5*u\\x90@H\\xf3*\\x84\\xcc\\xa32\\xaf\\xd7\\xabO\\x87\\xbe\\xef\\xccU\\xfdf\\x7f\\x8c\\xfda\\xdb\\x9a\\x01\\xa8\\xa7\\xa1\\x9f\\xccfj\\xbb\\'\\x82\\x1d\\xef\\x08\\x97y\\xb8:*\\xe28\\x80\\xcb\\xd3(O\\xf2\\xf5\\xea\\xf7}d\\xcd\\x88\\x14\\x80\\x9fo\\xd6\\xab/0Wm\\xfa\\xa3\\x19\\x89\\xa3>\\x0f\\xe7\\xe3I\\xc0r\\x07\\xc6\\xb5i\\x19\\x82\\xe9\\xa8\\xac\\xf5z\\xf5\\xdd48\\xf0G\\x9c\\x8cX\\xa3:\\xb4\\xcfF\\xedy\\xf8\\xa7^\\xec\\xea\\xd7\\xabq\\xdf\\xf7\\x13\\xcc>\\x1a\\xb5m\\x86iT\\xcd\\xa4\\xfa\\xf3\\xa0\\x1e\\x9b\\x03O&;i\\xbfS\\x11\\xe5Uh\\xb6N\\xa2:I\\xd6\\xab\\x07s8D\\xaa\\xdd\\xd1\\xc4+\\xfeh\\xbbg\\xf5\\xcc-\\x1e\\xad{\\xb8e\\x03\\xa7<6O\\xea\\xe9\\xdc\\x0c\\xdbQm\\x9aN\\xcd>\\x12\\x07\\xa9\\xdd\\xd0\\x1f\\xd5\\xd1\\xc8\\x8e\\x85\\xdbQ\\xa7Q\\x92$\\xe1\\x8ey\\x94\\xf0l\\x0f\\x06\\x87\\x98pm=\\x16\\x0f\\xb2\\xe5\\x13\\xdd\\x84\\x1f\\x82Pz\\x84<\\xd2\\x0b2\\xe8\\x12\\xee\\x02\\x19~\\x7fn\\xae7\\xeaao:u\\xaf\\x9e\\x8cX\\xa1\\xc6\\xf6\\xa9k\\x0e\\xd1zu1\\xef\\x0e\\x07ul\\xe01\\xba\\xe3\\xd8\\xbfX\\xcb*\\x8f[Ei'"
      ]
     },
     "execution_count": 6,
     "metadata": {},
     "output_type": "execute_result"
    }
   ],
   "source": [
    "#reading an example file from the database\n",
    "\n",
    "file_content = df['content'][1]\n",
    "file_content[:500]"
   ]
  },
  {
   "cell_type": "code",
   "execution_count": 7,
   "id": "5aea0d2f-e962-4cdc-8872-3d96821d13f2",
   "metadata": {
    "scrolled": true
   },
   "outputs": [
    {
     "name": "stdout",
     "output_type": "stream",
     "text": [
      "1\n",
      "00:00:29,359 --> 00:00:32,048\n",
      "Ah! There's Princess\n",
      "Dawn and Terry with the\n",
      "\n",
      "2\n",
      "00:00:32,248 --> 00:00:34,749\n",
      "Blooney Looney soldiers\n",
      "protecting them.\n",
      "\n",
      "3\n",
      "00:00:39,600 --> 00:00:42,414\n",
      "Oh, Terry, look!\n",
      "Here comes the Grump.\n",
      "\n",
      "4\n",
      "00:00:42,427 --> 00:00:45,795\n",
      "Yeah! And looks like he's going to\n",
      "shoot some darts at our balloon.\n",
      "\n",
      "5\n",
      "00:00:46,480 --> 00:00:51,911\n",
      "Well, if they think king blooney's gas\n",
      "bag guards can protect them from me.\n",
      "\n",
      "6\n",
      "00:00:52,111 --> 00:00:54,195\n",
      "We got another thing coming.\n",
      "\n",
      "7\n",
      "00:00:54,559 --> 00:00:57,428\n",
      "Okay! When I get the signal,\n",
      "we'll make our move.\n",
      "\n",
      "8\n",
      "00:00:58,239 --> 00:00:59,868\n",
      "This will fix him.\n",
      "\n",
      "9\n",
      "00:01:02,480 --> 00:01:04,224\n",
      "Okay.\n",
      "Everybody up!\n",
      "\n",
      "10\n",
      "00:01:06,400 --> 00:01:07,843\n",
      "Oh, Terry, I'm frightened.\n",
      "\n",
      "11\n",
      "00:01:08,043 --> 00:01:10,208\n",
      "Isn't there some way\n",
      "we can fight back?\n",
      "\n",
      "12\n",
      "00:01:10,880 --> 00:01:14,414\n",
      "I'd better do something,\n",
      "and quick. Here he comes again.\n",
      "\n",
      "13\n",
      "00:01:15,040 --> 00:01:18,161\n"
     ]
    }
   ],
   "source": [
    "print(extract_and_decode(file_content)[:1000])"
   ]
  },
  {
   "cell_type": "code",
   "execution_count": 8,
   "id": "b965bec8-0dc3-4ba0-8499-40692d8ad075",
   "metadata": {},
   "outputs": [
    {
     "name": "stdout",
     "output_type": "stream",
     "text": [
      "CPU times: total: 14.5 s\n",
      "Wall time: 15min 7s\n"
     ]
    }
   ],
   "source": [
    "#applying the extract and decode function to whole database to see that content\n",
    "\n",
    "\n",
    "\n",
    "%time df[\"file_content\"] = df['content'].apply(extract_and_decode)"
   ]
  },
  {
   "cell_type": "code",
   "execution_count": 10,
   "id": "b8528736-779c-457a-b312-75ed7da2f185",
   "metadata": {},
   "outputs": [
    {
     "data": {
      "text/html": [
       "<div>\n",
       "<style scoped>\n",
       "    .dataframe tbody tr th:only-of-type {\n",
       "        vertical-align: middle;\n",
       "    }\n",
       "\n",
       "    .dataframe tbody tr th {\n",
       "        vertical-align: top;\n",
       "    }\n",
       "\n",
       "    .dataframe thead th {\n",
       "        text-align: right;\n",
       "    }\n",
       "</style>\n",
       "<table border=\"1\" class=\"dataframe\">\n",
       "  <thead>\n",
       "    <tr style=\"text-align: right;\">\n",
       "      <th></th>\n",
       "      <th>num</th>\n",
       "      <th>name</th>\n",
       "      <th>content</th>\n",
       "      <th>file_content</th>\n",
       "    </tr>\n",
       "  </thead>\n",
       "  <tbody>\n",
       "    <tr>\n",
       "      <th>0</th>\n",
       "      <td>9180533</td>\n",
       "      <td>the.message.(1976).eng.1cd</td>\n",
       "      <td>b'PK\\x03\\x04\\x14\\x00\\x00\\x00\\x08\\x00\\x1c\\xa9\\x...</td>\n",
       "      <td>1\\r\\n00:00:06,000 --&gt; 00:00:12,074\\r\\nWatch an...</td>\n",
       "    </tr>\n",
       "    <tr>\n",
       "      <th>1</th>\n",
       "      <td>9180583</td>\n",
       "      <td>here.comes.the.grump.s01.e09.joltin.jack.in.bo...</td>\n",
       "      <td>b'PK\\x03\\x04\\x14\\x00\\x00\\x00\\x08\\x00\\x17\\xb9\\x...</td>\n",
       "      <td>1\\r\\n00:00:29,359 --&gt; 00:00:32,048\\r\\nAh! Ther...</td>\n",
       "    </tr>\n",
       "    <tr>\n",
       "      <th>2</th>\n",
       "      <td>9180592</td>\n",
       "      <td>yumis.cells.s02.e13.episode.2.13.(2022).eng.1cd</td>\n",
       "      <td>b'PK\\x03\\x04\\x14\\x00\\x00\\x00\\x08\\x00L\\xb9\\x99V...</td>\n",
       "      <td>1\\r\\n00:00:53,200 --&gt; 00:00:56,030\\r\\n&lt;i&gt;Yumi'...</td>\n",
       "    </tr>\n",
       "    <tr>\n",
       "      <th>3</th>\n",
       "      <td>9180594</td>\n",
       "      <td>yumis.cells.s02.e14.episode.2.14.(2022).eng.1cd</td>\n",
       "      <td>b'PK\\x03\\x04\\x14\\x00\\x00\\x00\\x08\\x00U\\xa9\\x99V...</td>\n",
       "      <td>1\\r\\n00:00:06,000 --&gt; 00:00:12,074\\r\\nWatch an...</td>\n",
       "    </tr>\n",
       "    <tr>\n",
       "      <th>4</th>\n",
       "      <td>9180600</td>\n",
       "      <td>broker.(2022).eng.1cd</td>\n",
       "      <td>b'PK\\x03\\x04\\x14\\x00\\x00\\x00\\x08\\x001\\xa9\\x99V...</td>\n",
       "      <td>ï»¿1\\r\\n00:00:06,000 --&gt; 00:00:12,074\\r\\nWatch...</td>\n",
       "    </tr>\n",
       "  </tbody>\n",
       "</table>\n",
       "</div>"
      ],
      "text/plain": [
       "       num                                               name  \\\n",
       "0  9180533                         the.message.(1976).eng.1cd   \n",
       "1  9180583  here.comes.the.grump.s01.e09.joltin.jack.in.bo...   \n",
       "2  9180592    yumis.cells.s02.e13.episode.2.13.(2022).eng.1cd   \n",
       "3  9180594    yumis.cells.s02.e14.episode.2.14.(2022).eng.1cd   \n",
       "4  9180600                              broker.(2022).eng.1cd   \n",
       "\n",
       "                                             content  \\\n",
       "0  b'PK\\x03\\x04\\x14\\x00\\x00\\x00\\x08\\x00\\x1c\\xa9\\x...   \n",
       "1  b'PK\\x03\\x04\\x14\\x00\\x00\\x00\\x08\\x00\\x17\\xb9\\x...   \n",
       "2  b'PK\\x03\\x04\\x14\\x00\\x00\\x00\\x08\\x00L\\xb9\\x99V...   \n",
       "3  b'PK\\x03\\x04\\x14\\x00\\x00\\x00\\x08\\x00U\\xa9\\x99V...   \n",
       "4  b'PK\\x03\\x04\\x14\\x00\\x00\\x00\\x08\\x001\\xa9\\x99V...   \n",
       "\n",
       "                                        file_content  \n",
       "0  1\\r\\n00:00:06,000 --> 00:00:12,074\\r\\nWatch an...  \n",
       "1  1\\r\\n00:00:29,359 --> 00:00:32,048\\r\\nAh! Ther...  \n",
       "2  1\\r\\n00:00:53,200 --> 00:00:56,030\\r\\n<i>Yumi'...  \n",
       "3  1\\r\\n00:00:06,000 --> 00:00:12,074\\r\\nWatch an...  \n",
       "4  ï»¿1\\r\\n00:00:06,000 --> 00:00:12,074\\r\\nWatch...  "
      ]
     },
     "execution_count": 10,
     "metadata": {},
     "output_type": "execute_result"
    }
   ],
   "source": [
    "df.head()"
   ]
  },
  {
   "cell_type": "code",
   "execution_count": 12,
   "id": "2fdb70f6-d397-4212-8042-e3f56f077dbc",
   "metadata": {},
   "outputs": [],
   "source": [
    "import os\n",
    "from tqdm import tqdm\n",
    "\n",
    "def save_content_to_txt(row):\n",
    "    \"\"\"\n",
    "    Function to save content from a dataframe row to a .txt file.\n",
    "    \"\"\"\n",
    "    try:\n",
    "        file_name = f\"subtitles/{row['name']}.txt\"\n",
    "        content = row['file_content']\n",
    "        \n",
    "        # Write the content to file\n",
    "        with open(file_name, 'w', encoding='latin-1') as file:\n",
    "            file.write(row['name'])\n",
    "            file.write(content)\n",
    "        return file_name\n",
    "    except Exception as e:\n",
    "        return f\"Error saving {file_name}: {str(e)}\""
   ]
  },
  {
   "cell_type": "code",
   "execution_count": 13,
   "id": "25d8a0bb-4c1b-4755-8c0f-c43e1bdb1ebd",
   "metadata": {},
   "outputs": [],
   "source": [
    "def save_in_batches(df, batch_size=5000):\n",
    "    \"\"\"\n",
    "    Function to save content in batches to .txt files.\n",
    "    \"\"\"\n",
    "    num_rows = len(df)\n",
    "    num_batches = (num_rows // batch_size) + (1 if num_rows % batch_size != 0 else 0)\n",
    "\n",
    "    for i in range(num_batches):\n",
    "        start_index = i * batch_size\n",
    "        end_index = min((i + 1) * batch_size, num_rows)\n",
    "        \n",
    "        batch_df = df.iloc[start_index:end_index]\n",
    "        \n",
    "        # tqdm progress bar for saving\n",
    "        with tqdm(total=len(batch_df), desc=f\"Saving batch {i}\") as pbar:\n",
    "            for index, row in batch_df.iterrows():\n",
    "                save_content_to_txt(row)\n",
    "                pbar.update(1)\n",
    "                "
   ]
  },
  {
   "cell_type": "code",
   "execution_count": 14,
   "id": "10a55630-654c-45c3-8e46-fb079724d1a2",
   "metadata": {},
   "outputs": [
    {
     "name": "stderr",
     "output_type": "stream",
     "text": [
      "Saving batch 0: 100%|██████████████████████████████████████████████████████████████| 5000/5000 [01:09<00:00, 72.45it/s]\n",
      "Saving batch 1: 100%|██████████████████████████████████████████████████████████████| 5000/5000 [01:28<00:00, 56.60it/s]\n",
      "Saving batch 2: 100%|██████████████████████████████████████████████████████████████| 5000/5000 [01:43<00:00, 48.27it/s]\n",
      "Saving batch 3: 100%|██████████████████████████████████████████████████████████████| 5000/5000 [01:17<00:00, 64.19it/s]\n",
      "Saving batch 4: 100%|██████████████████████████████████████████████████████████████| 5000/5000 [01:51<00:00, 44.87it/s]\n",
      "Saving batch 5: 100%|██████████████████████████████████████████████████████████████| 5000/5000 [04:07<00:00, 20.18it/s]\n",
      "Saving batch 6: 100%|██████████████████████████████████████████████████████████████| 5000/5000 [03:41<00:00, 22.60it/s]\n",
      "Saving batch 7: 100%|██████████████████████████████████████████████████████████████| 5000/5000 [02:45<00:00, 30.14it/s]\n",
      "Saving batch 8: 100%|██████████████████████████████████████████████████████████████| 5000/5000 [01:40<00:00, 49.74it/s]\n",
      "Saving batch 9: 100%|██████████████████████████████████████████████████████████████| 5000/5000 [01:54<00:00, 43.80it/s]\n",
      "Saving batch 10: 100%|█████████████████████████████████████████████████████████████| 5000/5000 [02:19<00:00, 35.85it/s]\n",
      "Saving batch 11: 100%|█████████████████████████████████████████████████████████████| 5000/5000 [02:44<00:00, 30.40it/s]\n",
      "Saving batch 12: 100%|█████████████████████████████████████████████████████████████| 5000/5000 [01:27<00:00, 57.39it/s]\n",
      "Saving batch 13: 100%|█████████████████████████████████████████████████████████████| 5000/5000 [03:54<00:00, 21.33it/s]\n",
      "Saving batch 14: 100%|█████████████████████████████████████████████████████████████| 5000/5000 [08:20<00:00, 10.00it/s]\n",
      "Saving batch 15: 100%|█████████████████████████████████████████████████████████████| 5000/5000 [02:19<00:00, 35.76it/s]\n",
      "Saving batch 16: 100%|█████████████████████████████████████████████████████████████| 2498/2498 [00:53<00:00, 46.44it/s]\n"
     ]
    }
   ],
   "source": [
    "# Call the function to save in batches\n",
    "save_in_batches(df)"
   ]
  },
  {
   "cell_type": "code",
   "execution_count": 15,
   "id": "c3942e0f-ce88-4340-9a4b-a0283543e742",
   "metadata": {},
   "outputs": [],
   "source": [
    "conn.close()"
   ]
  }
 ],
 "metadata": {
  "kernelspec": {
   "display_name": "Python 3 (ipykernel)",
   "language": "python",
   "name": "python3"
  },
  "language_info": {
   "codemirror_mode": {
    "name": "ipython",
    "version": 3
   },
   "file_extension": ".py",
   "mimetype": "text/x-python",
   "name": "python",
   "nbconvert_exporter": "python",
   "pygments_lexer": "ipython3",
   "version": "3.11.8"
  }
 },
 "nbformat": 4,
 "nbformat_minor": 5
}
