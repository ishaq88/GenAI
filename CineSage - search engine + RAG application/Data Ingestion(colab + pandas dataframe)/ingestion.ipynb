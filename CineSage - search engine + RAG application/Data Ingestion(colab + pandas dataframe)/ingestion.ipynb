{
  "cells": [
    {
      "cell_type": "code",
      "source": [
        "!pip install langchain langchain-community langchain-chroma"
      ],
      "metadata": {
        "colab": {
          "base_uri": "https://localhost:8080/"
        },
        "id": "bdnkcgAy9GpL",
        "outputId": "36780080-db84-4191-cfa3-945eee7d6e2f"
      },
      "execution_count": null,
      "outputs": [
        {
          "output_type": "stream",
          "name": "stdout",
          "text": [
            "Collecting langchain\n",
            "  Downloading langchain-0.1.16-py3-none-any.whl (817 kB)\n",
            "\u001b[2K     \u001b[90m━━━━━━━━━━━━━━━━━━━━━━━━━━━━━━━━━━━━━━━━\u001b[0m \u001b[32m817.7/817.7 kB\u001b[0m \u001b[31m6.6 MB/s\u001b[0m eta \u001b[36m0:00:00\u001b[0m\n",
            "\u001b[?25hCollecting langchain-community\n",
            "  Downloading langchain_community-0.0.34-py3-none-any.whl (1.9 MB)\n",
            "\u001b[2K     \u001b[90m━━━━━━━━━━━━━━━━━━━━━━━━━━━━━━━━━━━━━━━━\u001b[0m \u001b[32m1.9/1.9 MB\u001b[0m \u001b[31m16.3 MB/s\u001b[0m eta \u001b[36m0:00:00\u001b[0m\n",
            "\u001b[?25hCollecting langchain-chroma\n",
            "  Downloading langchain_chroma-0.1.0-py3-none-any.whl (8.5 kB)\n",
            "Requirement already satisfied: PyYAML>=5.3 in /usr/local/lib/python3.10/dist-packages (from langchain) (6.0.1)\n",
            "Requirement already satisfied: SQLAlchemy<3,>=1.4 in /usr/local/lib/python3.10/dist-packages (from langchain) (2.0.29)\n",
            "Requirement already satisfied: aiohttp<4.0.0,>=3.8.3 in /usr/local/lib/python3.10/dist-packages (from langchain) (3.9.5)\n",
            "Requirement already satisfied: async-timeout<5.0.0,>=4.0.0 in /usr/local/lib/python3.10/dist-packages (from langchain) (4.0.3)\n",
            "Collecting dataclasses-json<0.7,>=0.5.7 (from langchain)\n",
            "  Downloading dataclasses_json-0.6.4-py3-none-any.whl (28 kB)\n",
            "Collecting jsonpatch<2.0,>=1.33 (from langchain)\n",
            "  Downloading jsonpatch-1.33-py2.py3-none-any.whl (12 kB)\n",
            "Collecting langchain-core<0.2.0,>=0.1.42 (from langchain)\n",
            "  Downloading langchain_core-0.1.46-py3-none-any.whl (299 kB)\n",
            "\u001b[2K     \u001b[90m━━━━━━━━━━━━━━━━━━━━━━━━━━━━━━━━━━━━━━━━\u001b[0m \u001b[32m299.3/299.3 kB\u001b[0m \u001b[31m17.8 MB/s\u001b[0m eta \u001b[36m0:00:00\u001b[0m\n",
            "\u001b[?25hCollecting langchain-text-splitters<0.1,>=0.0.1 (from langchain)\n",
            "  Downloading langchain_text_splitters-0.0.1-py3-none-any.whl (21 kB)\n",
            "Collecting langsmith<0.2.0,>=0.1.17 (from langchain)\n",
            "  Downloading langsmith-0.1.50-py3-none-any.whl (115 kB)\n",
            "\u001b[2K     \u001b[90m━━━━━━━━━━━━━━━━━━━━━━━━━━━━━━━━━━━━━━━━\u001b[0m \u001b[32m115.5/115.5 kB\u001b[0m \u001b[31m8.4 MB/s\u001b[0m eta \u001b[36m0:00:00\u001b[0m\n",
            "\u001b[?25hRequirement already satisfied: numpy<2,>=1 in /usr/local/lib/python3.10/dist-packages (from langchain) (1.25.2)\n",
            "Requirement already satisfied: pydantic<3,>=1 in /usr/local/lib/python3.10/dist-packages (from langchain) (2.7.0)\n",
            "Requirement already satisfied: requests<3,>=2 in /usr/local/lib/python3.10/dist-packages (from langchain) (2.31.0)\n",
            "Requirement already satisfied: tenacity<9.0.0,>=8.1.0 in /usr/local/lib/python3.10/dist-packages (from langchain) (8.2.3)\n",
            "Collecting chromadb<0.5.0,>=0.4.0 (from langchain-chroma)\n",
            "  Downloading chromadb-0.4.24-py3-none-any.whl (525 kB)\n",
            "\u001b[2K     \u001b[90m━━━━━━━━━━━━━━━━━━━━━━━━━━━━━━━━━━━━━━━━\u001b[0m \u001b[32m525.5/525.5 kB\u001b[0m \u001b[31m15.9 MB/s\u001b[0m eta \u001b[36m0:00:00\u001b[0m\n",
            "\u001b[?25hCollecting fastapi<1,>=0.95.2 (from langchain-chroma)\n",
            "  Downloading fastapi-0.110.2-py3-none-any.whl (91 kB)\n",
            "\u001b[2K     \u001b[90m━━━━━━━━━━━━━━━━━━━━━━━━━━━━━━━━━━━━━━━━\u001b[0m \u001b[32m91.9/91.9 kB\u001b[0m \u001b[31m4.6 MB/s\u001b[0m eta \u001b[36m0:00:00\u001b[0m\n",
            "\u001b[?25hRequirement already satisfied: aiosignal>=1.1.2 in /usr/local/lib/python3.10/dist-packages (from aiohttp<4.0.0,>=3.8.3->langchain) (1.3.1)\n",
            "Requirement already satisfied: attrs>=17.3.0 in /usr/local/lib/python3.10/dist-packages (from aiohttp<4.0.0,>=3.8.3->langchain) (23.2.0)\n",
            "Requirement already satisfied: frozenlist>=1.1.1 in /usr/local/lib/python3.10/dist-packages (from aiohttp<4.0.0,>=3.8.3->langchain) (1.4.1)\n",
            "Requirement already satisfied: multidict<7.0,>=4.5 in /usr/local/lib/python3.10/dist-packages (from aiohttp<4.0.0,>=3.8.3->langchain) (6.0.5)\n",
            "Requirement already satisfied: yarl<2.0,>=1.0 in /usr/local/lib/python3.10/dist-packages (from aiohttp<4.0.0,>=3.8.3->langchain) (1.9.4)\n",
            "Requirement already satisfied: build>=1.0.3 in /usr/local/lib/python3.10/dist-packages (from chromadb<0.5.0,>=0.4.0->langchain-chroma) (1.2.1)\n",
            "Collecting chroma-hnswlib==0.7.3 (from chromadb<0.5.0,>=0.4.0->langchain-chroma)\n",
            "  Downloading chroma_hnswlib-0.7.3-cp310-cp310-manylinux_2_17_x86_64.manylinux2014_x86_64.whl (2.4 MB)\n",
            "\u001b[2K     \u001b[90m━━━━━━━━━━━━━━━━━━━━━━━━━━━━━━━━━━━━━━━━\u001b[0m \u001b[32m2.4/2.4 MB\u001b[0m \u001b[31m23.1 MB/s\u001b[0m eta \u001b[36m0:00:00\u001b[0m\n",
            "\u001b[?25hCollecting uvicorn[standard]>=0.18.3 (from chromadb<0.5.0,>=0.4.0->langchain-chroma)\n",
            "  Downloading uvicorn-0.29.0-py3-none-any.whl (60 kB)\n",
            "\u001b[2K     \u001b[90m━━━━━━━━━━━━━━━━━━━━━━━━━━━━━━━━━━━━━━━━\u001b[0m \u001b[32m60.8/60.8 kB\u001b[0m \u001b[31m3.4 MB/s\u001b[0m eta \u001b[36m0:00:00\u001b[0m\n",
            "\u001b[?25hCollecting posthog>=2.4.0 (from chromadb<0.5.0,>=0.4.0->langchain-chroma)\n",
            "  Downloading posthog-3.5.0-py2.py3-none-any.whl (41 kB)\n",
            "\u001b[2K     \u001b[90m━━━━━━━━━━━━━━━━━━━━━━━━━━━━━━━━━━━━━━━━\u001b[0m \u001b[32m41.3/41.3 kB\u001b[0m \u001b[31m2.0 MB/s\u001b[0m eta \u001b[36m0:00:00\u001b[0m\n",
            "\u001b[?25hRequirement already satisfied: typing-extensions>=4.5.0 in /usr/local/lib/python3.10/dist-packages (from chromadb<0.5.0,>=0.4.0->langchain-chroma) (4.11.0)\n",
            "Collecting pulsar-client>=3.1.0 (from chromadb<0.5.0,>=0.4.0->langchain-chroma)\n",
            "  Downloading pulsar_client-3.5.0-cp310-cp310-manylinux_2_17_x86_64.manylinux2014_x86_64.whl (5.4 MB)\n",
            "\u001b[2K     \u001b[90m━━━━━━━━━━━━━━━━━━━━━━━━━━━━━━━━━━━━━━━━\u001b[0m \u001b[32m5.4/5.4 MB\u001b[0m \u001b[31m47.6 MB/s\u001b[0m eta \u001b[36m0:00:00\u001b[0m\n",
            "\u001b[?25hCollecting onnxruntime>=1.14.1 (from chromadb<0.5.0,>=0.4.0->langchain-chroma)\n",
            "  Downloading onnxruntime-1.17.3-cp310-cp310-manylinux_2_27_x86_64.manylinux_2_28_x86_64.whl (6.8 MB)\n",
            "\u001b[2K     \u001b[90m━━━━━━━━━━━━━━━━━━━━━━━━━━━━━━━━━━━━━━━━\u001b[0m \u001b[32m6.8/6.8 MB\u001b[0m \u001b[31m50.7 MB/s\u001b[0m eta \u001b[36m0:00:00\u001b[0m\n",
            "\u001b[?25hCollecting opentelemetry-api>=1.2.0 (from chromadb<0.5.0,>=0.4.0->langchain-chroma)\n",
            "  Downloading opentelemetry_api-1.24.0-py3-none-any.whl (60 kB)\n",
            "\u001b[2K     \u001b[90m━━━━━━━━━━━━━━━━━━━━━━━━━━━━━━━━━━━━━━━━\u001b[0m \u001b[32m60.1/60.1 kB\u001b[0m \u001b[31m4.5 MB/s\u001b[0m eta \u001b[36m0:00:00\u001b[0m\n",
            "\u001b[?25hCollecting opentelemetry-exporter-otlp-proto-grpc>=1.2.0 (from chromadb<0.5.0,>=0.4.0->langchain-chroma)\n",
            "  Downloading opentelemetry_exporter_otlp_proto_grpc-1.24.0-py3-none-any.whl (18 kB)\n",
            "Collecting opentelemetry-instrumentation-fastapi>=0.41b0 (from chromadb<0.5.0,>=0.4.0->langchain-chroma)\n",
            "  Downloading opentelemetry_instrumentation_fastapi-0.45b0-py3-none-any.whl (11 kB)\n",
            "Collecting opentelemetry-sdk>=1.2.0 (from chromadb<0.5.0,>=0.4.0->langchain-chroma)\n",
            "  Downloading opentelemetry_sdk-1.24.0-py3-none-any.whl (106 kB)\n",
            "\u001b[2K     \u001b[90m━━━━━━━━━━━━━━━━━━━━━━━━━━━━━━━━━━━━━━━━\u001b[0m \u001b[32m106.1/106.1 kB\u001b[0m \u001b[31m8.3 MB/s\u001b[0m eta \u001b[36m0:00:00\u001b[0m\n",
            "\u001b[?25hRequirement already satisfied: tokenizers>=0.13.2 in /usr/local/lib/python3.10/dist-packages (from chromadb<0.5.0,>=0.4.0->langchain-chroma) (0.19.1)\n",
            "Collecting pypika>=0.48.9 (from chromadb<0.5.0,>=0.4.0->langchain-chroma)\n",
            "  Downloading PyPika-0.48.9.tar.gz (67 kB)\n",
            "\u001b[2K     \u001b[90m━━━━━━━━━━━━━━━━━━━━━━━━━━━━━━━━━━━━━━━━\u001b[0m \u001b[32m67.3/67.3 kB\u001b[0m \u001b[31m5.4 MB/s\u001b[0m eta \u001b[36m0:00:00\u001b[0m\n",
            "\u001b[?25h  Installing build dependencies ... \u001b[?25l\u001b[?25hdone\n",
            "  Getting requirements to build wheel ... \u001b[?25l\u001b[?25hdone\n",
            "  Preparing metadata (pyproject.toml) ... \u001b[?25l\u001b[?25hdone\n",
            "Requirement already satisfied: tqdm>=4.65.0 in /usr/local/lib/python3.10/dist-packages (from chromadb<0.5.0,>=0.4.0->langchain-chroma) (4.66.2)\n",
            "Collecting overrides>=7.3.1 (from chromadb<0.5.0,>=0.4.0->langchain-chroma)\n",
            "  Downloading overrides-7.7.0-py3-none-any.whl (17 kB)\n",
            "Requirement already satisfied: importlib-resources in /usr/local/lib/python3.10/dist-packages (from chromadb<0.5.0,>=0.4.0->langchain-chroma) (6.4.0)\n",
            "Requirement already satisfied: grpcio>=1.58.0 in /usr/local/lib/python3.10/dist-packages (from chromadb<0.5.0,>=0.4.0->langchain-chroma) (1.62.2)\n",
            "Collecting bcrypt>=4.0.1 (from chromadb<0.5.0,>=0.4.0->langchain-chroma)\n",
            "  Downloading bcrypt-4.1.2-cp39-abi3-manylinux_2_28_x86_64.whl (698 kB)\n",
            "\u001b[2K     \u001b[90m━━━━━━━━━━━━━━━━━━━━━━━━━━━━━━━━━━━━━━━━\u001b[0m \u001b[32m698.9/698.9 kB\u001b[0m \u001b[31m48.3 MB/s\u001b[0m eta \u001b[36m0:00:00\u001b[0m\n",
            "\u001b[?25hRequirement already satisfied: typer>=0.9.0 in /usr/local/lib/python3.10/dist-packages (from chromadb<0.5.0,>=0.4.0->langchain-chroma) (0.9.4)\n",
            "Collecting kubernetes>=28.1.0 (from chromadb<0.5.0,>=0.4.0->langchain-chroma)\n",
            "  Downloading kubernetes-29.0.0-py2.py3-none-any.whl (1.6 MB)\n",
            "\u001b[2K     \u001b[90m━━━━━━━━━━━━━━━━━━━━━━━━━━━━━━━━━━━━━━━━\u001b[0m \u001b[32m1.6/1.6 MB\u001b[0m \u001b[31m69.0 MB/s\u001b[0m eta \u001b[36m0:00:00\u001b[0m\n",
            "\u001b[?25hCollecting mmh3>=4.0.1 (from chromadb<0.5.0,>=0.4.0->langchain-chroma)\n",
            "  Downloading mmh3-4.1.0-cp310-cp310-manylinux_2_5_x86_64.manylinux1_x86_64.manylinux_2_17_x86_64.manylinux2014_x86_64.whl (67 kB)\n",
            "\u001b[2K     \u001b[90m━━━━━━━━━━━━━━━━━━━━━━━━━━━━━━━━━━━━━━━━\u001b[0m \u001b[32m67.6/67.6 kB\u001b[0m \u001b[31m8.8 MB/s\u001b[0m eta \u001b[36m0:00:00\u001b[0m\n",
            "\u001b[?25hCollecting orjson>=3.9.12 (from chromadb<0.5.0,>=0.4.0->langchain-chroma)\n",
            "  Downloading orjson-3.10.1-cp310-cp310-manylinux_2_17_x86_64.manylinux2014_x86_64.whl (141 kB)\n",
            "\u001b[2K     \u001b[90m━━━━━━━━━━━━━━━━━━━━━━━━━━━━━━━━━━━━━━━━\u001b[0m \u001b[32m141.1/141.1 kB\u001b[0m \u001b[31m17.1 MB/s\u001b[0m eta \u001b[36m0:00:00\u001b[0m\n",
            "\u001b[?25hCollecting marshmallow<4.0.0,>=3.18.0 (from dataclasses-json<0.7,>=0.5.7->langchain)\n",
            "  Downloading marshmallow-3.21.1-py3-none-any.whl (49 kB)\n",
            "\u001b[2K     \u001b[90m━━━━━━━━━━━━━━━━━━━━━━━━━━━━━━━━━━━━━━━━\u001b[0m \u001b[32m49.4/49.4 kB\u001b[0m \u001b[31m5.0 MB/s\u001b[0m eta \u001b[36m0:00:00\u001b[0m\n",
            "\u001b[?25hCollecting typing-inspect<1,>=0.4.0 (from dataclasses-json<0.7,>=0.5.7->langchain)\n",
            "  Downloading typing_inspect-0.9.0-py3-none-any.whl (8.8 kB)\n",
            "Collecting starlette<0.38.0,>=0.37.2 (from fastapi<1,>=0.95.2->langchain-chroma)\n",
            "  Downloading starlette-0.37.2-py3-none-any.whl (71 kB)\n",
            "\u001b[2K     \u001b[90m━━━━━━━━━━━━━━━━━━━━━━━━━━━━━━━━━━━━━━━━\u001b[0m \u001b[32m71.9/71.9 kB\u001b[0m \u001b[31m9.0 MB/s\u001b[0m eta \u001b[36m0:00:00\u001b[0m\n",
            "\u001b[?25hCollecting jsonpointer>=1.9 (from jsonpatch<2.0,>=1.33->langchain)\n",
            "  Downloading jsonpointer-2.4-py2.py3-none-any.whl (7.8 kB)\n",
            "Collecting packaging<24.0,>=23.2 (from langchain-core<0.2.0,>=0.1.42->langchain)\n",
            "  Downloading packaging-23.2-py3-none-any.whl (53 kB)\n",
            "\u001b[2K     \u001b[90m━━━━━━━━━━━━━━━━━━━━━━━━━━━━━━━━━━━━━━━━\u001b[0m \u001b[32m53.0/53.0 kB\u001b[0m \u001b[31m5.8 MB/s\u001b[0m eta \u001b[36m0:00:00\u001b[0m\n",
            "\u001b[?25hRequirement already satisfied: annotated-types>=0.4.0 in /usr/local/lib/python3.10/dist-packages (from pydantic<3,>=1->langchain) (0.6.0)\n",
            "Requirement already satisfied: pydantic-core==2.18.1 in /usr/local/lib/python3.10/dist-packages (from pydantic<3,>=1->langchain) (2.18.1)\n",
            "Requirement already satisfied: charset-normalizer<4,>=2 in /usr/local/lib/python3.10/dist-packages (from requests<3,>=2->langchain) (3.3.2)\n",
            "Requirement already satisfied: idna<4,>=2.5 in /usr/local/lib/python3.10/dist-packages (from requests<3,>=2->langchain) (3.7)\n",
            "Requirement already satisfied: urllib3<3,>=1.21.1 in /usr/local/lib/python3.10/dist-packages (from requests<3,>=2->langchain) (2.0.7)\n",
            "Requirement already satisfied: certifi>=2017.4.17 in /usr/local/lib/python3.10/dist-packages (from requests<3,>=2->langchain) (2024.2.2)\n",
            "Requirement already satisfied: greenlet!=0.4.17 in /usr/local/lib/python3.10/dist-packages (from SQLAlchemy<3,>=1.4->langchain) (3.0.3)\n",
            "Requirement already satisfied: pyproject_hooks in /usr/local/lib/python3.10/dist-packages (from build>=1.0.3->chromadb<0.5.0,>=0.4.0->langchain-chroma) (1.0.0)\n",
            "Requirement already satisfied: tomli>=1.1.0 in /usr/local/lib/python3.10/dist-packages (from build>=1.0.3->chromadb<0.5.0,>=0.4.0->langchain-chroma) (2.0.1)\n",
            "Requirement already satisfied: six>=1.9.0 in /usr/local/lib/python3.10/dist-packages (from kubernetes>=28.1.0->chromadb<0.5.0,>=0.4.0->langchain-chroma) (1.16.0)\n",
            "Requirement already satisfied: python-dateutil>=2.5.3 in /usr/local/lib/python3.10/dist-packages (from kubernetes>=28.1.0->chromadb<0.5.0,>=0.4.0->langchain-chroma) (2.8.2)\n",
            "Requirement already satisfied: google-auth>=1.0.1 in /usr/local/lib/python3.10/dist-packages (from kubernetes>=28.1.0->chromadb<0.5.0,>=0.4.0->langchain-chroma) (2.27.0)\n",
            "Requirement already satisfied: websocket-client!=0.40.0,!=0.41.*,!=0.42.*,>=0.32.0 in /usr/local/lib/python3.10/dist-packages (from kubernetes>=28.1.0->chromadb<0.5.0,>=0.4.0->langchain-chroma) (1.7.0)\n",
            "Requirement already satisfied: requests-oauthlib in /usr/local/lib/python3.10/dist-packages (from kubernetes>=28.1.0->chromadb<0.5.0,>=0.4.0->langchain-chroma) (1.3.1)\n",
            "Requirement already satisfied: oauthlib>=3.2.2 in /usr/local/lib/python3.10/dist-packages (from kubernetes>=28.1.0->chromadb<0.5.0,>=0.4.0->langchain-chroma) (3.2.2)\n",
            "Collecting coloredlogs (from onnxruntime>=1.14.1->chromadb<0.5.0,>=0.4.0->langchain-chroma)\n",
            "  Downloading coloredlogs-15.0.1-py2.py3-none-any.whl (46 kB)\n",
            "\u001b[2K     \u001b[90m━━━━━━━━━━━━━━━━━━━━━━━━━━━━━━━━━━━━━━━━\u001b[0m \u001b[32m46.0/46.0 kB\u001b[0m \u001b[31m6.0 MB/s\u001b[0m eta \u001b[36m0:00:00\u001b[0m\n",
            "\u001b[?25hRequirement already satisfied: flatbuffers in /usr/local/lib/python3.10/dist-packages (from onnxruntime>=1.14.1->chromadb<0.5.0,>=0.4.0->langchain-chroma) (24.3.25)\n",
            "Requirement already satisfied: protobuf in /usr/local/lib/python3.10/dist-packages (from onnxruntime>=1.14.1->chromadb<0.5.0,>=0.4.0->langchain-chroma) (3.20.3)\n",
            "Requirement already satisfied: sympy in /usr/local/lib/python3.10/dist-packages (from onnxruntime>=1.14.1->chromadb<0.5.0,>=0.4.0->langchain-chroma) (1.12)\n",
            "Collecting deprecated>=1.2.6 (from opentelemetry-api>=1.2.0->chromadb<0.5.0,>=0.4.0->langchain-chroma)\n",
            "  Downloading Deprecated-1.2.14-py2.py3-none-any.whl (9.6 kB)\n",
            "Collecting importlib-metadata<=7.0,>=6.0 (from opentelemetry-api>=1.2.0->chromadb<0.5.0,>=0.4.0->langchain-chroma)\n",
            "  Downloading importlib_metadata-7.0.0-py3-none-any.whl (23 kB)\n",
            "Requirement already satisfied: googleapis-common-protos~=1.52 in /usr/local/lib/python3.10/dist-packages (from opentelemetry-exporter-otlp-proto-grpc>=1.2.0->chromadb<0.5.0,>=0.4.0->langchain-chroma) (1.63.0)\n",
            "Collecting opentelemetry-exporter-otlp-proto-common==1.24.0 (from opentelemetry-exporter-otlp-proto-grpc>=1.2.0->chromadb<0.5.0,>=0.4.0->langchain-chroma)\n",
            "  Downloading opentelemetry_exporter_otlp_proto_common-1.24.0-py3-none-any.whl (17 kB)\n",
            "Collecting opentelemetry-proto==1.24.0 (from opentelemetry-exporter-otlp-proto-grpc>=1.2.0->chromadb<0.5.0,>=0.4.0->langchain-chroma)\n",
            "  Downloading opentelemetry_proto-1.24.0-py3-none-any.whl (50 kB)\n",
            "\u001b[2K     \u001b[90m━━━━━━━━━━━━━━━━━━━━━━━━━━━━━━━━━━━━━━━━\u001b[0m \u001b[32m50.8/50.8 kB\u001b[0m \u001b[31m6.2 MB/s\u001b[0m eta \u001b[36m0:00:00\u001b[0m\n",
            "\u001b[?25hCollecting opentelemetry-instrumentation-asgi==0.45b0 (from opentelemetry-instrumentation-fastapi>=0.41b0->chromadb<0.5.0,>=0.4.0->langchain-chroma)\n",
            "  Downloading opentelemetry_instrumentation_asgi-0.45b0-py3-none-any.whl (14 kB)\n",
            "Collecting opentelemetry-instrumentation==0.45b0 (from opentelemetry-instrumentation-fastapi>=0.41b0->chromadb<0.5.0,>=0.4.0->langchain-chroma)\n",
            "  Downloading opentelemetry_instrumentation-0.45b0-py3-none-any.whl (28 kB)\n",
            "Collecting opentelemetry-semantic-conventions==0.45b0 (from opentelemetry-instrumentation-fastapi>=0.41b0->chromadb<0.5.0,>=0.4.0->langchain-chroma)\n",
            "  Downloading opentelemetry_semantic_conventions-0.45b0-py3-none-any.whl (36 kB)\n",
            "Collecting opentelemetry-util-http==0.45b0 (from opentelemetry-instrumentation-fastapi>=0.41b0->chromadb<0.5.0,>=0.4.0->langchain-chroma)\n",
            "  Downloading opentelemetry_util_http-0.45b0-py3-none-any.whl (6.9 kB)\n",
            "Requirement already satisfied: setuptools>=16.0 in /usr/local/lib/python3.10/dist-packages (from opentelemetry-instrumentation==0.45b0->opentelemetry-instrumentation-fastapi>=0.41b0->chromadb<0.5.0,>=0.4.0->langchain-chroma) (67.7.2)\n",
            "Requirement already satisfied: wrapt<2.0.0,>=1.0.0 in /usr/local/lib/python3.10/dist-packages (from opentelemetry-instrumentation==0.45b0->opentelemetry-instrumentation-fastapi>=0.41b0->chromadb<0.5.0,>=0.4.0->langchain-chroma) (1.14.1)\n",
            "Collecting asgiref~=3.0 (from opentelemetry-instrumentation-asgi==0.45b0->opentelemetry-instrumentation-fastapi>=0.41b0->chromadb<0.5.0,>=0.4.0->langchain-chroma)\n",
            "  Downloading asgiref-3.8.1-py3-none-any.whl (23 kB)\n",
            "Collecting monotonic>=1.5 (from posthog>=2.4.0->chromadb<0.5.0,>=0.4.0->langchain-chroma)\n",
            "  Downloading monotonic-1.6-py2.py3-none-any.whl (8.2 kB)\n",
            "Collecting backoff>=1.10.0 (from posthog>=2.4.0->chromadb<0.5.0,>=0.4.0->langchain-chroma)\n",
            "  Downloading backoff-2.2.1-py3-none-any.whl (15 kB)\n",
            "Requirement already satisfied: anyio<5,>=3.4.0 in /usr/local/lib/python3.10/dist-packages (from starlette<0.38.0,>=0.37.2->fastapi<1,>=0.95.2->langchain-chroma) (3.7.1)\n",
            "Requirement already satisfied: huggingface-hub<1.0,>=0.16.4 in /usr/local/lib/python3.10/dist-packages (from tokenizers>=0.13.2->chromadb<0.5.0,>=0.4.0->langchain-chroma) (0.20.3)\n",
            "Requirement already satisfied: click<9.0.0,>=7.1.1 in /usr/local/lib/python3.10/dist-packages (from typer>=0.9.0->chromadb<0.5.0,>=0.4.0->langchain-chroma) (8.1.7)\n",
            "Collecting mypy-extensions>=0.3.0 (from typing-inspect<1,>=0.4.0->dataclasses-json<0.7,>=0.5.7->langchain)\n",
            "  Downloading mypy_extensions-1.0.0-py3-none-any.whl (4.7 kB)\n",
            "Collecting h11>=0.8 (from uvicorn[standard]>=0.18.3->chromadb<0.5.0,>=0.4.0->langchain-chroma)\n",
            "  Downloading h11-0.14.0-py3-none-any.whl (58 kB)\n",
            "\u001b[2K     \u001b[90m━━━━━━━━━━━━━━━━━━━━━━━━━━━━━━━━━━━━━━━━\u001b[0m \u001b[32m58.3/58.3 kB\u001b[0m \u001b[31m6.1 MB/s\u001b[0m eta \u001b[36m0:00:00\u001b[0m\n",
            "\u001b[?25hCollecting httptools>=0.5.0 (from uvicorn[standard]>=0.18.3->chromadb<0.5.0,>=0.4.0->langchain-chroma)\n",
            "  Downloading httptools-0.6.1-cp310-cp310-manylinux_2_5_x86_64.manylinux1_x86_64.manylinux_2_17_x86_64.manylinux2014_x86_64.whl (341 kB)\n",
            "\u001b[2K     \u001b[90m━━━━━━━━━━━━━━━━━━━━━━━━━━━━━━━━━━━━━━━━\u001b[0m \u001b[32m341.4/341.4 kB\u001b[0m \u001b[31m30.3 MB/s\u001b[0m eta \u001b[36m0:00:00\u001b[0m\n",
            "\u001b[?25hCollecting python-dotenv>=0.13 (from uvicorn[standard]>=0.18.3->chromadb<0.5.0,>=0.4.0->langchain-chroma)\n",
            "  Downloading python_dotenv-1.0.1-py3-none-any.whl (19 kB)\n",
            "Collecting uvloop!=0.15.0,!=0.15.1,>=0.14.0 (from uvicorn[standard]>=0.18.3->chromadb<0.5.0,>=0.4.0->langchain-chroma)\n",
            "  Downloading uvloop-0.19.0-cp310-cp310-manylinux_2_17_x86_64.manylinux2014_x86_64.whl (3.4 MB)\n",
            "\u001b[2K     \u001b[90m━━━━━━━━━━━━━━━━━━━━━━━━━━━━━━━━━━━━━━━━\u001b[0m \u001b[32m3.4/3.4 MB\u001b[0m \u001b[31m51.5 MB/s\u001b[0m eta \u001b[36m0:00:00\u001b[0m\n",
            "\u001b[?25hCollecting watchfiles>=0.13 (from uvicorn[standard]>=0.18.3->chromadb<0.5.0,>=0.4.0->langchain-chroma)\n",
            "  Downloading watchfiles-0.21.0-cp310-cp310-manylinux_2_17_x86_64.manylinux2014_x86_64.whl (1.3 MB)\n",
            "\u001b[2K     \u001b[90m━━━━━━━━━━━━━━━━━━━━━━━━━━━━━━━━━━━━━━━━\u001b[0m \u001b[32m1.3/1.3 MB\u001b[0m \u001b[31m64.5 MB/s\u001b[0m eta \u001b[36m0:00:00\u001b[0m\n",
            "\u001b[?25hCollecting websockets>=10.4 (from uvicorn[standard]>=0.18.3->chromadb<0.5.0,>=0.4.0->langchain-chroma)\n",
            "  Downloading websockets-12.0-cp310-cp310-manylinux_2_5_x86_64.manylinux1_x86_64.manylinux_2_17_x86_64.manylinux2014_x86_64.whl (130 kB)\n",
            "\u001b[2K     \u001b[90m━━━━━━━━━━━━━━━━━━━━━━━━━━━━━━━━━━━━━━━━\u001b[0m \u001b[32m130.2/130.2 kB\u001b[0m \u001b[31m13.6 MB/s\u001b[0m eta \u001b[36m0:00:00\u001b[0m\n",
            "\u001b[?25hRequirement already satisfied: sniffio>=1.1 in /usr/local/lib/python3.10/dist-packages (from anyio<5,>=3.4.0->starlette<0.38.0,>=0.37.2->fastapi<1,>=0.95.2->langchain-chroma) (1.3.1)\n",
            "Requirement already satisfied: exceptiongroup in /usr/local/lib/python3.10/dist-packages (from anyio<5,>=3.4.0->starlette<0.38.0,>=0.37.2->fastapi<1,>=0.95.2->langchain-chroma) (1.2.1)\n",
            "Requirement already satisfied: cachetools<6.0,>=2.0.0 in /usr/local/lib/python3.10/dist-packages (from google-auth>=1.0.1->kubernetes>=28.1.0->chromadb<0.5.0,>=0.4.0->langchain-chroma) (5.3.3)\n",
            "Requirement already satisfied: pyasn1-modules>=0.2.1 in /usr/local/lib/python3.10/dist-packages (from google-auth>=1.0.1->kubernetes>=28.1.0->chromadb<0.5.0,>=0.4.0->langchain-chroma) (0.4.0)\n",
            "Requirement already satisfied: rsa<5,>=3.1.4 in /usr/local/lib/python3.10/dist-packages (from google-auth>=1.0.1->kubernetes>=28.1.0->chromadb<0.5.0,>=0.4.0->langchain-chroma) (4.9)\n",
            "Requirement already satisfied: filelock in /usr/local/lib/python3.10/dist-packages (from huggingface-hub<1.0,>=0.16.4->tokenizers>=0.13.2->chromadb<0.5.0,>=0.4.0->langchain-chroma) (3.13.4)\n",
            "Requirement already satisfied: fsspec>=2023.5.0 in /usr/local/lib/python3.10/dist-packages (from huggingface-hub<1.0,>=0.16.4->tokenizers>=0.13.2->chromadb<0.5.0,>=0.4.0->langchain-chroma) (2023.6.0)\n",
            "Requirement already satisfied: zipp>=0.5 in /usr/local/lib/python3.10/dist-packages (from importlib-metadata<=7.0,>=6.0->opentelemetry-api>=1.2.0->chromadb<0.5.0,>=0.4.0->langchain-chroma) (3.18.1)\n",
            "Collecting humanfriendly>=9.1 (from coloredlogs->onnxruntime>=1.14.1->chromadb<0.5.0,>=0.4.0->langchain-chroma)\n",
            "  Downloading humanfriendly-10.0-py2.py3-none-any.whl (86 kB)\n",
            "\u001b[2K     \u001b[90m━━━━━━━━━━━━━━━━━━━━━━━━━━━━━━━━━━━━━━━━\u001b[0m \u001b[32m86.8/86.8 kB\u001b[0m \u001b[31m9.9 MB/s\u001b[0m eta \u001b[36m0:00:00\u001b[0m\n",
            "\u001b[?25hRequirement already satisfied: mpmath>=0.19 in /usr/local/lib/python3.10/dist-packages (from sympy->onnxruntime>=1.14.1->chromadb<0.5.0,>=0.4.0->langchain-chroma) (1.3.0)\n",
            "Requirement already satisfied: pyasn1<0.7.0,>=0.4.6 in /usr/local/lib/python3.10/dist-packages (from pyasn1-modules>=0.2.1->google-auth>=1.0.1->kubernetes>=28.1.0->chromadb<0.5.0,>=0.4.0->langchain-chroma) (0.6.0)\n",
            "Building wheels for collected packages: pypika\n",
            "  Building wheel for pypika (pyproject.toml) ... \u001b[?25l\u001b[?25hdone\n",
            "  Created wheel for pypika: filename=PyPika-0.48.9-py2.py3-none-any.whl size=53724 sha256=2ae6209ff787bc53c39b003eb8a3bef3c218a550afe8d552d5cf034516ec2092\n",
            "  Stored in directory: /root/.cache/pip/wheels/e1/26/51/d0bffb3d2fd82256676d7ad3003faea3bd6dddc9577af665f4\n",
            "Successfully built pypika\n",
            "Installing collected packages: pypika, monotonic, mmh3, websockets, uvloop, python-dotenv, pulsar-client, packaging, overrides, orjson, opentelemetry-util-http, opentelemetry-semantic-conventions, opentelemetry-proto, mypy-extensions, jsonpointer, importlib-metadata, humanfriendly, httptools, h11, deprecated, chroma-hnswlib, bcrypt, backoff, asgiref, watchfiles, uvicorn, typing-inspect, starlette, posthog, opentelemetry-exporter-otlp-proto-common, opentelemetry-api, marshmallow, jsonpatch, coloredlogs, opentelemetry-sdk, opentelemetry-instrumentation, onnxruntime, langsmith, kubernetes, fastapi, dataclasses-json, opentelemetry-instrumentation-asgi, opentelemetry-exporter-otlp-proto-grpc, langchain-core, opentelemetry-instrumentation-fastapi, langchain-text-splitters, langchain-community, langchain, chromadb, langchain-chroma\n",
            "  Attempting uninstall: packaging\n",
            "    Found existing installation: packaging 24.0\n",
            "    Uninstalling packaging-24.0:\n",
            "      Successfully uninstalled packaging-24.0\n",
            "  Attempting uninstall: importlib-metadata\n",
            "    Found existing installation: importlib_metadata 7.1.0\n",
            "    Uninstalling importlib_metadata-7.1.0:\n",
            "      Successfully uninstalled importlib_metadata-7.1.0\n",
            "Successfully installed asgiref-3.8.1 backoff-2.2.1 bcrypt-4.1.2 chroma-hnswlib-0.7.3 chromadb-0.4.24 coloredlogs-15.0.1 dataclasses-json-0.6.4 deprecated-1.2.14 fastapi-0.110.2 h11-0.14.0 httptools-0.6.1 humanfriendly-10.0 importlib-metadata-7.0.0 jsonpatch-1.33 jsonpointer-2.4 kubernetes-29.0.0 langchain-0.1.16 langchain-chroma-0.1.0 langchain-community-0.0.34 langchain-core-0.1.46 langchain-text-splitters-0.0.1 langsmith-0.1.50 marshmallow-3.21.1 mmh3-4.1.0 monotonic-1.6 mypy-extensions-1.0.0 onnxruntime-1.17.3 opentelemetry-api-1.24.0 opentelemetry-exporter-otlp-proto-common-1.24.0 opentelemetry-exporter-otlp-proto-grpc-1.24.0 opentelemetry-instrumentation-0.45b0 opentelemetry-instrumentation-asgi-0.45b0 opentelemetry-instrumentation-fastapi-0.45b0 opentelemetry-proto-1.24.0 opentelemetry-sdk-1.24.0 opentelemetry-semantic-conventions-0.45b0 opentelemetry-util-http-0.45b0 orjson-3.10.1 overrides-7.7.0 packaging-23.2 posthog-3.5.0 pulsar-client-3.5.0 pypika-0.48.9 python-dotenv-1.0.1 starlette-0.37.2 typing-inspect-0.9.0 uvicorn-0.29.0 uvloop-0.19.0 watchfiles-0.21.0 websockets-12.0\n"
          ]
        }
      ]
    },
    {
      "cell_type": "code",
      "source": [
        "!pip install sentence-transformers"
      ],
      "metadata": {
        "colab": {
          "base_uri": "https://localhost:8080/"
        },
        "id": "D1vr4M9R7Iyi",
        "outputId": "a053c551-4e55-492a-90a9-64431f9b884f"
      },
      "execution_count": null,
      "outputs": [
        {
          "output_type": "stream",
          "name": "stdout",
          "text": [
            "Collecting sentence-transformers\n",
            "  Downloading sentence_transformers-2.7.0-py3-none-any.whl (171 kB)\n",
            "\u001b[?25l     \u001b[90m━━━━━━━━━━━━━━━━━━━━━━━━━━━━━━━━━━━━━━━━\u001b[0m \u001b[32m0.0/171.5 kB\u001b[0m \u001b[31m?\u001b[0m eta \u001b[36m-:--:--\u001b[0m\r\u001b[2K     \u001b[91m━━━━━━━━━━━━━━━━━━━━━━━━━━━━━━━━━━━━━━\u001b[0m\u001b[90m╺\u001b[0m\u001b[90m━\u001b[0m \u001b[32m163.8/171.5 kB\u001b[0m \u001b[31m8.4 MB/s\u001b[0m eta \u001b[36m0:00:01\u001b[0m\r\u001b[2K     \u001b[90m━━━━━━━━━━━━━━━━━━━━━━━━━━━━━━━━━━━━━━━━\u001b[0m \u001b[32m171.5/171.5 kB\u001b[0m \u001b[31m4.3 MB/s\u001b[0m eta \u001b[36m0:00:00\u001b[0m\n",
            "\u001b[?25hRequirement already satisfied: transformers<5.0.0,>=4.34.0 in /usr/local/lib/python3.10/dist-packages (from sentence-transformers) (4.40.0)\n",
            "Requirement already satisfied: tqdm in /usr/local/lib/python3.10/dist-packages (from sentence-transformers) (4.66.2)\n",
            "Requirement already satisfied: torch>=1.11.0 in /usr/local/lib/python3.10/dist-packages (from sentence-transformers) (2.2.1+cu121)\n",
            "Requirement already satisfied: numpy in /usr/local/lib/python3.10/dist-packages (from sentence-transformers) (1.25.2)\n",
            "Requirement already satisfied: scikit-learn in /usr/local/lib/python3.10/dist-packages (from sentence-transformers) (1.2.2)\n",
            "Requirement already satisfied: scipy in /usr/local/lib/python3.10/dist-packages (from sentence-transformers) (1.11.4)\n",
            "Requirement already satisfied: huggingface-hub>=0.15.1 in /usr/local/lib/python3.10/dist-packages (from sentence-transformers) (0.20.3)\n",
            "Requirement already satisfied: Pillow in /usr/local/lib/python3.10/dist-packages (from sentence-transformers) (9.4.0)\n",
            "Requirement already satisfied: filelock in /usr/local/lib/python3.10/dist-packages (from huggingface-hub>=0.15.1->sentence-transformers) (3.13.4)\n",
            "Requirement already satisfied: fsspec>=2023.5.0 in /usr/local/lib/python3.10/dist-packages (from huggingface-hub>=0.15.1->sentence-transformers) (2023.6.0)\n",
            "Requirement already satisfied: requests in /usr/local/lib/python3.10/dist-packages (from huggingface-hub>=0.15.1->sentence-transformers) (2.31.0)\n",
            "Requirement already satisfied: pyyaml>=5.1 in /usr/local/lib/python3.10/dist-packages (from huggingface-hub>=0.15.1->sentence-transformers) (6.0.1)\n",
            "Requirement already satisfied: typing-extensions>=3.7.4.3 in /usr/local/lib/python3.10/dist-packages (from huggingface-hub>=0.15.1->sentence-transformers) (4.11.0)\n",
            "Requirement already satisfied: packaging>=20.9 in /usr/local/lib/python3.10/dist-packages (from huggingface-hub>=0.15.1->sentence-transformers) (23.2)\n",
            "Requirement already satisfied: sympy in /usr/local/lib/python3.10/dist-packages (from torch>=1.11.0->sentence-transformers) (1.12)\n",
            "Requirement already satisfied: networkx in /usr/local/lib/python3.10/dist-packages (from torch>=1.11.0->sentence-transformers) (3.3)\n",
            "Requirement already satisfied: jinja2 in /usr/local/lib/python3.10/dist-packages (from torch>=1.11.0->sentence-transformers) (3.1.3)\n",
            "Collecting nvidia-cuda-nvrtc-cu12==12.1.105 (from torch>=1.11.0->sentence-transformers)\n",
            "  Using cached nvidia_cuda_nvrtc_cu12-12.1.105-py3-none-manylinux1_x86_64.whl (23.7 MB)\n",
            "Collecting nvidia-cuda-runtime-cu12==12.1.105 (from torch>=1.11.0->sentence-transformers)\n",
            "  Using cached nvidia_cuda_runtime_cu12-12.1.105-py3-none-manylinux1_x86_64.whl (823 kB)\n",
            "Collecting nvidia-cuda-cupti-cu12==12.1.105 (from torch>=1.11.0->sentence-transformers)\n",
            "  Using cached nvidia_cuda_cupti_cu12-12.1.105-py3-none-manylinux1_x86_64.whl (14.1 MB)\n",
            "Collecting nvidia-cudnn-cu12==8.9.2.26 (from torch>=1.11.0->sentence-transformers)\n",
            "  Using cached nvidia_cudnn_cu12-8.9.2.26-py3-none-manylinux1_x86_64.whl (731.7 MB)\n",
            "Collecting nvidia-cublas-cu12==12.1.3.1 (from torch>=1.11.0->sentence-transformers)\n",
            "  Using cached nvidia_cublas_cu12-12.1.3.1-py3-none-manylinux1_x86_64.whl (410.6 MB)\n",
            "Collecting nvidia-cufft-cu12==11.0.2.54 (from torch>=1.11.0->sentence-transformers)\n",
            "  Using cached nvidia_cufft_cu12-11.0.2.54-py3-none-manylinux1_x86_64.whl (121.6 MB)\n",
            "Collecting nvidia-curand-cu12==10.3.2.106 (from torch>=1.11.0->sentence-transformers)\n",
            "  Using cached nvidia_curand_cu12-10.3.2.106-py3-none-manylinux1_x86_64.whl (56.5 MB)\n",
            "Collecting nvidia-cusolver-cu12==11.4.5.107 (from torch>=1.11.0->sentence-transformers)\n",
            "  Using cached nvidia_cusolver_cu12-11.4.5.107-py3-none-manylinux1_x86_64.whl (124.2 MB)\n",
            "Collecting nvidia-cusparse-cu12==12.1.0.106 (from torch>=1.11.0->sentence-transformers)\n",
            "  Using cached nvidia_cusparse_cu12-12.1.0.106-py3-none-manylinux1_x86_64.whl (196.0 MB)\n",
            "Collecting nvidia-nccl-cu12==2.19.3 (from torch>=1.11.0->sentence-transformers)\n",
            "  Using cached nvidia_nccl_cu12-2.19.3-py3-none-manylinux1_x86_64.whl (166.0 MB)\n",
            "Collecting nvidia-nvtx-cu12==12.1.105 (from torch>=1.11.0->sentence-transformers)\n",
            "  Using cached nvidia_nvtx_cu12-12.1.105-py3-none-manylinux1_x86_64.whl (99 kB)\n",
            "Requirement already satisfied: triton==2.2.0 in /usr/local/lib/python3.10/dist-packages (from torch>=1.11.0->sentence-transformers) (2.2.0)\n",
            "Collecting nvidia-nvjitlink-cu12 (from nvidia-cusolver-cu12==11.4.5.107->torch>=1.11.0->sentence-transformers)\n",
            "  Using cached nvidia_nvjitlink_cu12-12.4.127-py3-none-manylinux2014_x86_64.whl (21.1 MB)\n",
            "Requirement already satisfied: regex!=2019.12.17 in /usr/local/lib/python3.10/dist-packages (from transformers<5.0.0,>=4.34.0->sentence-transformers) (2023.12.25)\n",
            "Requirement already satisfied: tokenizers<0.20,>=0.19 in /usr/local/lib/python3.10/dist-packages (from transformers<5.0.0,>=4.34.0->sentence-transformers) (0.19.1)\n",
            "Requirement already satisfied: safetensors>=0.4.1 in /usr/local/lib/python3.10/dist-packages (from transformers<5.0.0,>=4.34.0->sentence-transformers) (0.4.3)\n",
            "Requirement already satisfied: joblib>=1.1.1 in /usr/local/lib/python3.10/dist-packages (from scikit-learn->sentence-transformers) (1.4.0)\n",
            "Requirement already satisfied: threadpoolctl>=2.0.0 in /usr/local/lib/python3.10/dist-packages (from scikit-learn->sentence-transformers) (3.4.0)\n",
            "Requirement already satisfied: MarkupSafe>=2.0 in /usr/local/lib/python3.10/dist-packages (from jinja2->torch>=1.11.0->sentence-transformers) (2.1.5)\n",
            "Requirement already satisfied: charset-normalizer<4,>=2 in /usr/local/lib/python3.10/dist-packages (from requests->huggingface-hub>=0.15.1->sentence-transformers) (3.3.2)\n",
            "Requirement already satisfied: idna<4,>=2.5 in /usr/local/lib/python3.10/dist-packages (from requests->huggingface-hub>=0.15.1->sentence-transformers) (3.7)\n",
            "Requirement already satisfied: urllib3<3,>=1.21.1 in /usr/local/lib/python3.10/dist-packages (from requests->huggingface-hub>=0.15.1->sentence-transformers) (2.0.7)\n",
            "Requirement already satisfied: certifi>=2017.4.17 in /usr/local/lib/python3.10/dist-packages (from requests->huggingface-hub>=0.15.1->sentence-transformers) (2024.2.2)\n",
            "Requirement already satisfied: mpmath>=0.19 in /usr/local/lib/python3.10/dist-packages (from sympy->torch>=1.11.0->sentence-transformers) (1.3.0)\n",
            "Installing collected packages: nvidia-nvtx-cu12, nvidia-nvjitlink-cu12, nvidia-nccl-cu12, nvidia-curand-cu12, nvidia-cufft-cu12, nvidia-cuda-runtime-cu12, nvidia-cuda-nvrtc-cu12, nvidia-cuda-cupti-cu12, nvidia-cublas-cu12, nvidia-cusparse-cu12, nvidia-cudnn-cu12, nvidia-cusolver-cu12, sentence-transformers\n",
            "Successfully installed nvidia-cublas-cu12-12.1.3.1 nvidia-cuda-cupti-cu12-12.1.105 nvidia-cuda-nvrtc-cu12-12.1.105 nvidia-cuda-runtime-cu12-12.1.105 nvidia-cudnn-cu12-8.9.2.26 nvidia-cufft-cu12-11.0.2.54 nvidia-curand-cu12-10.3.2.106 nvidia-cusolver-cu12-11.4.5.107 nvidia-cusparse-cu12-12.1.0.106 nvidia-nccl-cu12-2.19.3 nvidia-nvjitlink-cu12-12.4.127 nvidia-nvtx-cu12-12.1.105 sentence-transformers-2.7.0\n"
          ]
        }
      ]
    },
    {
      "cell_type": "code",
      "execution_count": null,
      "metadata": {
        "id": "tPAWTZqGlfm-"
      },
      "outputs": [],
      "source": [
        "import pandas as pd\n",
        "import numpy as np\n",
        "from langchain_community.document_loaders import DataFrameLoader\n",
        "from langchain_community.embeddings.sentence_transformer import (\n",
        "    SentenceTransformerEmbeddings,\n",
        ")\n",
        "import chromadb\n",
        "from langchain_chroma import Chroma\n",
        "from langchain.retrievers import BM25Retriever\n",
        "import uuid\n",
        "from tqdm import tqdm\n",
        "import ast\n",
        "import json"
      ]
    },
    {
      "cell_type": "code",
      "source": [
        "from google.colab import drive\n",
        "drive.mount('/content/drive', force_remount=True)"
      ],
      "metadata": {
        "colab": {
          "base_uri": "https://localhost:8080/"
        },
        "id": "QWlVH2ES9xxP",
        "outputId": "c95331e0-6bd7-4b0f-978f-ef8b291fddb8"
      },
      "execution_count": null,
      "outputs": [
        {
          "output_type": "stream",
          "name": "stdout",
          "text": [
            "Mounted at /content/drive\n"
          ]
        }
      ]
    },
    {
      "cell_type": "code",
      "execution_count": null,
      "metadata": {
        "id": "K18jM0nGnjUv"
      },
      "outputs": [],
      "source": [
        "df = pd.read_csv('/content/drive/MyDrive/search engine project/processed_split_0.csv')"
      ]
    },
    {
      "cell_type": "code",
      "execution_count": null,
      "metadata": {
        "colab": {
          "base_uri": "https://localhost:8080/"
        },
        "id": "GdkvOGN3n1gA",
        "outputId": "aa9fd2e0-3686-4070-823c-b0130b895150"
      },
      "outputs": [
        {
          "output_type": "stream",
          "name": "stdout",
          "text": [
            "<class 'pandas.core.frame.DataFrame'>\n",
            "RangeIndex: 448047 entries, 0 to 448046\n",
            "Data columns (total 4 columns):\n",
            " #   Column            Non-Null Count   Dtype \n",
            "---  ------            --------------   ----- \n",
            " 0   num               448047 non-null  int64 \n",
            " 1   name              448047 non-null  object\n",
            " 2   chunks            447122 non-null  object\n",
            " 3   chunk_embeddings  447122 non-null  object\n",
            "dtypes: int64(1), object(3)\n",
            "memory usage: 13.7+ MB\n"
          ]
        }
      ],
      "source": [
        "df.info()"
      ]
    },
    {
      "cell_type": "code",
      "source": [
        "df.isnull().sum()"
      ],
      "metadata": {
        "colab": {
          "base_uri": "https://localhost:8080/"
        },
        "id": "GjGelefbDR2y",
        "outputId": "68d348c2-7f5d-44a7-a948-3025b7bc14bb"
      },
      "execution_count": null,
      "outputs": [
        {
          "output_type": "execute_result",
          "data": {
            "text/plain": [
              "num                   0\n",
              "name                  0\n",
              "chunks              925\n",
              "chunk_embeddings    925\n",
              "dtype: int64"
            ]
          },
          "metadata": {},
          "execution_count": 7
        }
      ]
    },
    {
      "cell_type": "code",
      "source": [
        "df.dropna(subset=['chunks', 'chunk_embeddings'], inplace=True)"
      ],
      "metadata": {
        "id": "99PnNxkmDWI0"
      },
      "execution_count": null,
      "outputs": []
    },
    {
      "cell_type": "code",
      "source": [
        "df.isnull().sum()"
      ],
      "metadata": {
        "colab": {
          "base_uri": "https://localhost:8080/"
        },
        "id": "MlSgeQgRDZPN",
        "outputId": "c051b3c1-ac74-45b4-d727-2cc290ee5196"
      },
      "execution_count": null,
      "outputs": [
        {
          "output_type": "execute_result",
          "data": {
            "text/plain": [
              "num                 0\n",
              "name                0\n",
              "chunks              0\n",
              "chunk_embeddings    0\n",
              "dtype: int64"
            ]
          },
          "metadata": {},
          "execution_count": 9
        }
      ]
    },
    {
      "cell_type": "code",
      "execution_count": null,
      "metadata": {
        "id": "2arl0r5LngL0"
      },
      "outputs": [],
      "source": [
        "def ingestion(df):\n",
        "  \"\"\"\n",
        "  Ingests dataframe content into a ChromaDB collection.\n",
        "  \"\"\"\n",
        "  # Initialize Chroma client and collection\n",
        "  chroma_client = chromadb.PersistentClient(path='/content/drive/MyDrive/search engine project/vector_db')\n",
        "  collection = chroma_client.get_or_create_collection(name=\"subtitles_collection\")\n",
        "\n",
        "  # Convert dataframe to documents using DataFrameLoader\n",
        "  loader = DataFrameLoader(df, page_content_column='chunks')\n",
        "  documents = loader.load()\n",
        "\n",
        "  # Extract embeddings and metadata, text from the dataframe\n",
        "  text = []\n",
        "  embeddings = df['chunk_embeddings'].tolist()\n",
        "  metadatas = []\n",
        "  ids = []\n",
        "\n",
        "  for i, row in df.iterrows():\n",
        "    metadatas.append({'filename': row['name'], 'num': row['num']})\n",
        "    text.append(row['chunks'])\n",
        "    ids.append(str(uuid.uuid4()))  # Generate and store UUID\n",
        "\n",
        "  collection.add(\n",
        "    ids=ids,\n",
        "    embeddings=embeddings,\n",
        "    documents=text,\n",
        "    metadatas=metadatas,\n",
        "  )"
      ]
    },
    {
      "cell_type": "markdown",
      "source": [
        "## Ingesting documents in batch of 40000 docs at a time"
      ],
      "metadata": {
        "id": "q7K2AgVN4hR2"
      }
    },
    {
      "cell_type": "code",
      "source": [
        "from tqdm import tqdm\n",
        "\n",
        "def batch_ingestion(df, batch_size=40000):\n",
        "    \"\"\"\n",
        "    Ingests dataframe content into a ChromaDB collection in batches.\n",
        "    \"\"\"\n",
        "    num_rows = len(df)\n",
        "    for i in tqdm(range(0, num_rows, batch_size)):\n",
        "        df_batch = df[i:min(i+batch_size, num_rows)]\n",
        "        df_batch['chunk_embeddings'] = df_batch['chunk_embeddings'].apply(ast.literal_eval)\n",
        "        ingestion(df_batch)\n",
        "\n",
        "batch_ingestion(df)"
      ],
      "metadata": {
        "id": "2INWDf77WolH"
      },
      "execution_count": null,
      "outputs": []
    },
    {
      "cell_type": "markdown",
      "source": [
        "## Querying example"
      ],
      "metadata": {
        "id": "auc2LQozEysX"
      }
    },
    {
      "cell_type": "code",
      "source": [
        "chroma_client = chromadb.PersistentClient(path='/content/drive/MyDrive/search engine project/vector_db')\n",
        "chroma_client.list_collections()"
      ],
      "metadata": {
        "colab": {
          "base_uri": "https://localhost:8080/"
        },
        "id": "llflcR_gG3k9",
        "outputId": "7d036c3b-59bb-4b25-e078-ecb12d3a1b75"
      },
      "execution_count": null,
      "outputs": [
        {
          "output_type": "execute_result",
          "data": {
            "text/plain": [
              "[Collection(name=subtitles_collection)]"
            ]
          },
          "metadata": {},
          "execution_count": 9
        }
      ]
    },
    {
      "cell_type": "code",
      "source": [
        "# example query to see the workings of querying\n",
        "\n",
        "def hybrid_search(query: str):\n",
        "  chroma_client = chromadb.PersistentClient(path='/content/drive/MyDrive/search engine project/vector_db')\n",
        "  collection = chroma_client.get_collection(name=\"subtitles_collection\")\n",
        "\n",
        "  embeddings = SentenceTransformerEmbeddings(model_name=\"sentence-transformers/all-MiniLM-L6-v2\")\n",
        "\n",
        "\n",
        "  langchain_chroma = Chroma(\n",
        "      client=chroma_client,\n",
        "      collection_name='subtitles_collection',\n",
        "      embedding_function= embeddings\n",
        "  )\n",
        "  print('langchain creation done')\n",
        "  vector_retriever = langchain_chroma.as_retriever(search_kwargs={\"k\": 15})\n",
        "  print('vector retriever object done')\n",
        "  result = vector_retriever.get_relevant_documents(query)\n",
        "  print('semantic result calculated')\n",
        "\n",
        "  #rerank using bm25 keyword based\n",
        "  bm25_retriever = BM25Retriever.from_documents(documents=result)\n",
        "  top_5_docs = bm25_retriever.get_relevant_documents(query, k=5)\n",
        "\n",
        "  return result, top_5_docs"
      ],
      "metadata": {
        "id": "wqO3BYEQ2sLD"
      },
      "execution_count": null,
      "outputs": []
    },
    {
      "cell_type": "code",
      "source": [
        "vector_result, hybrid_result = hybrid_search('thor')"
      ],
      "metadata": {
        "colab": {
          "base_uri": "https://localhost:8080/"
        },
        "id": "Zv1CZ8A95d05",
        "outputId": "cab1a05a-5f58-4501-84e9-83bedf6825e1"
      },
      "execution_count": null,
      "outputs": [
        {
          "output_type": "stream",
          "name": "stdout",
          "text": [
            "langchain creation done\n",
            "vector retriever object done\n",
            "semantic result calculated\n"
          ]
        }
      ]
    },
    {
      "cell_type": "code",
      "source": [
        "vector_result"
      ],
      "metadata": {
        "colab": {
          "base_uri": "https://localhost:8080/"
        },
        "id": "vHtHni6yvqsP",
        "outputId": "6b4c2280-d769-473a-e081-bd15684336eb"
      },
      "execution_count": null,
      "outputs": [
        {
          "output_type": "execute_result",
          "data": {
            "text/plain": [
              "[Document(page_content='and his loving nature did not discriminate\\nhe once loved a swashbuckling passionista\\nanother time he loved a wolf woman\\non a woman wolf\\nbut thors one true love was an\\noh wait no\\njane foster\\nbut sadly\\nin the battle for love thor lost\\nin fact\\nhis mum\\nhis dad\\nand that guy\\nand that guy\\nand whoever that is\\nand heimdall\\nand his brother\\nand his brother again\\nand again\\npoor thor had to watch\\nand then he said what have i done\\nit seemed that everything\\nand so he hid his heart\\nso it could never be broken again\\nbut just because he was done loving\\nhe teamed up with\\nand set off on some\\nhe got in shape\\nputting in the hard yards\\nturning pains into gains\\nand never skipping leg day\\nhe went from dad bod to god bod\\nbut beneath his god bod\\nthere was still still a sad bod\\nbecause all of the bods that\\ncouldnt hide the pain\\nso he gave up his search for love', metadata={'filename': 'thor love and thunder (2022)', 'num': 9182344}),\n",
              " Document(page_content='just making noise a lot lest\\nthe bust has been served\\na huge stuffed mouse\\nyoure a blue momma\\nyeah ive proceed\\nits called me only at\\nsea about\\noh i guess i to do\\nim sure\\non the far side of thor is odin\\nand beside him\\nand the wide brimmed\\nthe gray and insubstantial\\nodin has\\nboth hands wrapped around a huge goblet\\nhis elbows rest on the table\\nand he is brooding\\nhis father the dream kings wines are good\\nyou should wait yes schrute\\nat least after 100 years\\nand i fear that wine would go to my head\\nno im content to watch\\nto the right of loki\\nso that she can reach\\njimmy the four year old girl\\nwho was a princess of chaos\\nshe has party food and cookies on her\\nthe servant in pajamas\\na young man with rumpled hair passes\\nhave no ice cream\\ncertainly princess jenny\\ni know you say that\\nmy lord\\ni was charged neither to eat nor sleep', metadata={'filename': 'the sandman s02 e01 season of mists prologue (2021)', 'num': 9192540}),\n",
              " Document(page_content='asgard is next\\nlook its thor thor\\nhey whod you piss off now\\nits not my fault\\nive never even seen these things\\nwelcome back\\nwhos the new guy\\noh that guy\\nmjãlnir\\nmjãlnir\\nits me thor\\nhave you seen my hammer\\nmjãlnir here boy\\nmjãlnir\\nmjãlnir\\nyoure back\\nmjãlnir\\nscuse me\\nthats my hammer youve got there\\nand thats my look\\nhey\\nenough tomfoolery wench\\nyou take off that mask\\ncmon\\nhey\\njane\\nlet me tell you the\\nhe was a god of thunder\\nand she a woman of science\\nand although they were\\nsomehow it just made sense\\nand together they embarked\\nthor taught jane\\nand jane taught thor\\nand as time passed their\\nshes incredible\\ni need you to promise me that\\ni love you too buddy\\na love that deep has a way\\nthor set his sights towards a future\\nbut the more he pondered a life with jane\\nand although jane didnt want to admit it\\nshe was scared of loss as well', metadata={'filename': 'thor love and thunder (2022)', 'num': 9182344}),\n",
              " Document(page_content='couldnt hide the pain\\nso he gave up his search for love\\naccepting that he was\\nwaiting in quiet contemplation\\nthor\\nwe need your help\\nthor\\nwe need your help\\nlets go\\noh okay\\ncome on storm breaker\\nlets hurry okay\\npeople are dying\\nsee you down there\\nhurry up\\ngimme those\\nyoure gonna break em\\ni am groot\\nhello everybody\\nwell well\\nhow are we doing guys\\nwere all going to die\\nyou said this planet\\ni said it was going to\\nwell look at our resplendent skyscape\\nwhat can be more relaxing than that\\nan actual holiday\\ndie mutant scum\\ngod of thunder\\nyou have finally joined our fight\\nwell as they say\\nit is very nice\\nas you know we\\nbut then our gods were murdered\\nand now our sacred temple\\nand habooskas hordes took control\\nit is our most sacred shrine he desecrates\\nnot for long\\nking yakan\\ntell them what happened here today\\ntell of the time that thor', metadata={'filename': 'thor love and thunder (2022)', 'num': 9182344}),\n",
              " Document(page_content='its like\\nit was\\nmagical\\nnot too bad for a human\\nnot too bad for a god\\ni think i figured\\noh yeah what is it\\nits perfect\\nits the best one yet\\nkeep your heart open\\ni love you\\ni love you too\\nprotect her\\nprotect my love\\nlet me tell you the\\naka\\nthe mighty thor\\naka\\ndr jane foster\\nher sacrifice saved the universe and\\nshe helped the\\nwho laser beamed\\nto their dozy little fishing\\nmommy\\nlook at you\\nare you okay\\nare you sure\\nthe kids were safe to be kids again\\nwiden your stance\\nespecially after their king made\\nlook at all those budding space vikings\\nthe war cry\\neven heimdalls son\\naxl heimdall son\\nwho could now do his\\nwas becoming quite the warrior\\nthe future of asgard was secure\\nspeaking of futures\\ni was forging one of my own\\nnow that my body\\nwith a dude i met called dwayne\\nand what about thor you ask\\nhe embarked on a new journey', metadata={'filename': 'thor love and thunder (2022)', 'num': 9182344}),\n",
              " Document(page_content='tell of the time that thor\\nand his ragtag motley crew of misfit\\nfound the time to battle and\\nthe odds may be against us\\nbut ill tell you this for free\\nthis ends here and now\\nhes not going to go into the temple is\\nwell done everybody\\nwe can collectively take credit for that\\nwe used our hearts and\\nwith minimal loss or damage\\nwhat a classic thor adventure\\nhurrah\\ngood book\\nyeah\\ni wrote it\\nyoure\\ni am\\nhi\\nhows the einsteinrosen bridge\\nits tough\\nyeah\\nits you need a 3d model\\nyou ever see event horizon\\nno\\ninterstellar\\nthat movie explains\\num alright\\nthe einsteinrosen\\nso that point a and point b coexist\\nyou just ruined your own book\\nyeah but now you understand wormholes\\nyou watch those movies\\nsaw the hot cheetos\\nso hows uh\\nits going amazing\\nhave you\\ntold anyone else besides me\\nwhen people find out\\ntheyre just\\ndifferent', metadata={'filename': 'thor love and thunder (2022)', 'num': 9182344}),\n",
              " Document(page_content='and then they told\\nget my affairs in order\\nand then i heard mjãlnir\\ni thought maybe\\nif science isnt working maybe\\nviking space magic\\nand thats why you came to new asgard\\nyeah i thought the hammer\\nmaybe could cure me and\\ni think its getting better\\nmaybe not\\njane none of us know how long we have\\nwe dont know what tomorrow holds\\nand mjãlnir mjãlnir chose you\\nand it chose you because\\nand thats something\\nwhen i first met you\\ni was unable to\\nbut you taught me there was no greater\\nyou made me worthy\\nso whatever you wanna do\\nokay\\nnow what do you wanna do\\ni wanna get those\\ni want to finish that mission\\nspoken like a true thor\\nhow do you feel now\\nso scared\\nhow you feeling\\nshitty\\nhow shitty\\nreally shitty\\nwell then\\ni wonder what those two\\nyeah theyre not talking\\noh\\ndo you think those two will ever\\nand make a thor baby\\nits unlikely sadly', metadata={'filename': 'thor love and thunder (2022)', 'num': 9182344}),\n",
              " Document(page_content='and make a thor baby\\nits unlikely sadly\\nmm thats too bad\\ni think thor would make a great dad\\nhey\\nwhere did all the color go\\ntheyre not here\\nwhere are they\\nwhat the hell is this place\\nbifrost is the key\\nits a trap\\ncan you tell me why you just threw\\nhe needs it to open the gates of eternity\\nwe really have to\\ncall the ax\\nill call the ax when\\ncall the ax\\ntell me where the children\\ncall the ax\\nsome god you are\\nyou know nothing\\nof being a god\\nyou went to the gods for help\\nand they did nothing\\nwere alike in that sense\\nhes nothing like you\\nwhat was that\\ni said hes nothing like you\\nthats right\\nim truly creating peace\\nyoure murdering innocent gods\\ninnocent\\nare you a valkyrie\\nyes\\nhaha how exciting\\noh the gods failed you too\\nyour sisterhood was led to slaughter\\ndid you pray to the gods\\nwhen the women you loved\\ndid you beg them for help', metadata={'filename': 'thor love and thunder (2022)', 'num': 9182344}),\n",
              " Document(page_content='hey i got you\\nhey guys were here\\nstorm breaker take us home\\nlook there are other more aggressive\\nbut somethings affecting her\\nim sorry thor\\noh there you are\\nwhats going on out there\\noh some moron made a fridge\\nnot to worry i got it open\\nhows val\\noh shes in a lot of pain\\nokay good\\nnow i just gotta get this\\nout of my\\nthats gotta stay in there\\nthats all the magic potions\\njust gonna pop out for a moment\\npick up the kids\\nand then ill come straight back\\nyoure going without me\\nuh yeah\\nwhat happened to like\\nhes gonna use those kids\\nyou need me\\ni do need you jane\\ni need you alive\\nit would be great to have\\nfighting gorr side by side\\nbut that hammer is killing you\\nevery time you use it\\nleaving your body unable\\nwhat happened to live\\nthat was before i knew\\nwhy not have one more adventure\\njane if theres a chance to live\\nspoken like a true thor', metadata={'filename': 'thor love and thunder (2022)', 'num': 9182344}),\n",
              " Document(page_content='thor\\nhey\\nhows it going\\nwere in a cage made of spikes\\nyeah thats right\\nare you gonna do something\\nbut just not right now\\nsee\\nyou can tell\\nyou know the good news\\nso if you die youll end up in valhalla\\noh my god go away\\nwait wait wait\\nokay well\\nalright right dont cry\\nlisten i got a plan okay\\nim putting together a\\nweve got um uh\\nuncle korg\\nking valkyrie\\num yeah\\nmy exgirlfriend jane which is a whole\\nbut it is a top notch team and were\\nyeah\\ni know where you are\\nim gonna get you out of here\\nim scared\\nwe all are\\nthor\\nlook out for them\\nill see you soon alright\\ntheyre in the shadow realm\\nhow do you know\\nthe atmosphere there has\\nits as if color fears to tread\\nwell then\\nlets bring the rainbow\\nbring the rainbow is that a\\nshes only been a\\ni mean saving lives shes quite good at\\nhow many catchphrases have there been\\nyep jumped the gun', metadata={'filename': 'thor love and thunder (2022)', 'num': 9182344}),\n",
              " Document(page_content='and what about thor you ask\\nhe embarked on a new journey\\nbecause he had found something to live for\\nsomething to love for\\na little someone who\\ninto dad god\\nbreakfast is served bon appetit\\nhello\\nthere you go\\nhey\\nexcuse me\\nwhat is that\\ntheyre\\ni dont think i like panflaps\\nyou love them\\nyes you do\\ncome on eat up\\nnow where are your boots\\nyoure not wearing those\\nyes i am\\nyes i am\\ngo to hell demon\\nits brand new\\nthank you very much\\nyou know what you wear what you want\\ndont come complaining to\\nalright you get no\\nugh fine\\nthank you\\nnow remember what\\nlisten to the grown ups\\nand if you see anyone\\nlook after them okay\\nand most of all have fun\\ngotcha\\nnow where is mjãlnir\\nover there sleeping in the bed\\nin the bed\\noh wow\\nthat is not coming off\\nwhat did you do\\neh she looked boring before\\nah\\nsupposed it did\\ni love it\\nvery creative\\nokay', metadata={'filename': 'thor love and thunder (2022)', 'num': 9182344}),\n",
              " Document(page_content='jane if theres a chance to live\\nspoken like a true thor\\ni know i seem like some cool\\njust living the dream\\nbut look at me\\ni wanna keep fighting\\nim the mighty thor\\nand you want me not to do that\\nwhats the point of\\nbecause i love you\\nive always loved you\\nand this is a chance for us\\nif you pick up that damn hammer\\nits your choice jane\\nbut id regret it\\nif i didnt ask you to stay here so we\\nyou better come back to me\\nim coming back\\nbreak a leg\\noh ill break all his legs\\nremember that the gate\\nof the universe\\nyou go past the cluster of comets\\nyes yes i know\\nim not going to get lost\\nso how are you feeling\\ni think i lost my kidney\\ni wish i could join you but\\nid probably die and that\\nso youll have to go it alone\\nall you have to do\\nits his source of power\\nhe wont survive\\nhey dont die\\nyeah i know\\neternity\\nfinally\\nhey kids\\ni knew hed come\\ngo\\ngo kids', metadata={'filename': 'thor love and thunder (2022)', 'num': 9182344}),\n",
              " Document(page_content='we were just talking\\nmommy dont leave me\\ndont be afraid\\neven when im gone honey\\nyou wont be alone\\nand whatever happens\\nnever stop fighting\\nhey\\ngreat\\nthe sink would say otherwise\\nyou think i really\\nim not getting any better\\nyoure a thor\\nbesides what else\\nyoure a viking now\\nmeans you pretty much\\nit needs to be\\notherwise you\\nmy plan\\nwhat about you\\ni love being king\\ni love my people\\nbut its all meetings\\nand meetings that could\\ni miss fighting\\ni miss my sisters\\nwhich is why you need to come\\nbecause i need one\\nokay we should go\\nare you packed\\nyes\\na hand grenade\\nno its a portable speaker\\nlets go\\nif you dont mind keeping\\ni got you\\nmy fellow asgardians\\nwish us well\\nfor we shall travel with\\nwe will return with children\\nmany children\\nthen we shall feast\\nwe do not do that anymore\\nthose were dark times\\nshameful times\\nokay we should go\\nso\\nno no', metadata={'filename': 'thor love and thunder (2022)', 'num': 9182344}),\n",
              " Document(page_content='and because i dont like storm gods\\ni just dont they rub me the wrong way\\nso it was he who thor carried off\\nwhy the hell shouldnt\\nbecause he was my guest also loki\\nwell so am i\\nand youre going\\nuntil the end of my world\\ni cannot permit lord zeno to remain\\nhe should not suffer for you\\nso i will freeze his on our loki\\ni could return you to the pain\\nno please please no\\npromise\\ni could create a dream image of you\\nand leave it in his place in the cavern\\nboth of you could walk free\\nno one else would ever need no\\ni am able to do this thing\\nwould you do\\nplease\\nif i were to do this thing loki\\nyou would be in my dad\\nyou understand\\nthis i understand very well\\nokay\\nlet us talk\\nat my age\\ni mean there he is back in egypt\\ni dont know give me a second thought\\nwell ill be in damp old fairy\\nbut simpleminded giants\\nin the great hall of the palace', metadata={'filename': 'the sandman s02 e01 season of mists prologue (2021)', 'num': 9192540}),\n",
              " Document(page_content='ah\\nsupposed it did\\ni love it\\nvery creative\\nokay\\nnow see the aliens down there\\nthey look nice\\nyeah they are nice\\nthats why we have\\ngot it\\nprotect the nice ones\\ni love you sweetie\\nlove you uncle thor\\nthey will always be there for us\\nthe space viking and his girl born from\\nwith the powers of a god\\ntwo warriors fighting the good fight for\\nthey have traveled far and have been\\nbut to those who know them best\\nlove and thunder\\nit used to be that being\\npeople would whisper your name\\nbefore sharing their\\nthey begged you for mercy\\nwithout ever knowing if\\nnow\\nyou know they look to the sky\\nthey dont ask us for lightning\\nthey dont ask us for rain\\nthey just want to see one of\\nwhen did we become the joke\\nno\\nno more\\nthey will fear us again\\nwhen thor odinson falls from the sky\\ndo you understand me hercules\\ndo you understand my son\\noh\\nhuh oh\\nhuh ha ha ha', metadata={'filename': 'thor love and thunder (2022)', 'num': 9182344})]"
            ]
          },
          "metadata": {},
          "execution_count": 31
        }
      ]
    },
    {
      "cell_type": "code",
      "source": [
        "for doc in vector_result:\n",
        "  print(doc.metadata)"
      ],
      "metadata": {
        "colab": {
          "base_uri": "https://localhost:8080/"
        },
        "id": "JVITn42j0lBT",
        "outputId": "a28307c9-3498-42fa-bbcc-665a407951de"
      },
      "execution_count": null,
      "outputs": [
        {
          "output_type": "stream",
          "name": "stdout",
          "text": [
            "{'filename': 'thor love and thunder (2022)', 'num': 9182344}\n",
            "{'filename': 'the sandman s02 e01 season of mists prologue (2021)', 'num': 9192540}\n",
            "{'filename': 'thor love and thunder (2022)', 'num': 9182344}\n",
            "{'filename': 'thor love and thunder (2022)', 'num': 9182344}\n",
            "{'filename': 'thor love and thunder (2022)', 'num': 9182344}\n",
            "{'filename': 'thor love and thunder (2022)', 'num': 9182344}\n",
            "{'filename': 'thor love and thunder (2022)', 'num': 9182344}\n",
            "{'filename': 'thor love and thunder (2022)', 'num': 9182344}\n",
            "{'filename': 'thor love and thunder (2022)', 'num': 9182344}\n",
            "{'filename': 'thor love and thunder (2022)', 'num': 9182344}\n",
            "{'filename': 'thor love and thunder (2022)', 'num': 9182344}\n",
            "{'filename': 'thor love and thunder (2022)', 'num': 9182344}\n",
            "{'filename': 'thor love and thunder (2022)', 'num': 9182344}\n",
            "{'filename': 'the sandman s02 e01 season of mists prologue (2021)', 'num': 9192540}\n",
            "{'filename': 'thor love and thunder (2022)', 'num': 9182344}\n"
          ]
        }
      ]
    },
    {
      "cell_type": "code",
      "source": [
        "for doc in hybrid_result:\n",
        "  print(doc.metadata)"
      ],
      "metadata": {
        "colab": {
          "base_uri": "https://localhost:8080/"
        },
        "id": "vkXd6b4FB65c",
        "outputId": "e3ecf6ba-7737-4c53-948e-6cef388bc1ef"
      },
      "execution_count": null,
      "outputs": [
        {
          "output_type": "stream",
          "name": "stdout",
          "text": [
            "{'filename': 'thor love and thunder (2022)', 'num': 9182344}\n",
            "{'filename': 'thor love and thunder (2022)', 'num': 9182344}\n",
            "{'filename': 'thor love and thunder (2022)', 'num': 9182344}\n",
            "{'filename': 'thor love and thunder (2022)', 'num': 9182344}\n"
          ]
        }
      ]
    },
    {
      "cell_type": "code",
      "source": [
        "!pip install rank_bm25"
      ],
      "metadata": {
        "colab": {
          "base_uri": "https://localhost:8080/"
        },
        "id": "ypcqj0H2-MW8",
        "outputId": "13c2cd0e-c639-4ee9-be4f-7a8a53114c60"
      },
      "execution_count": null,
      "outputs": [
        {
          "output_type": "stream",
          "name": "stdout",
          "text": [
            "Collecting rank_bm25\n",
            "  Downloading rank_bm25-0.2.2-py3-none-any.whl (8.6 kB)\n",
            "Requirement already satisfied: numpy in /usr/local/lib/python3.10/dist-packages (from rank_bm25) (1.25.2)\n",
            "Installing collected packages: rank_bm25\n",
            "Successfully installed rank_bm25-0.2.2\n"
          ]
        }
      ]
    },
    {
      "cell_type": "code",
      "source": [],
      "metadata": {
        "id": "TVoH8yd5BPzU"
      },
      "execution_count": null,
      "outputs": []
    }
  ],
  "metadata": {
    "colab": {
      "provenance": []
    },
    "kernelspec": {
      "display_name": "Python 3",
      "name": "python3"
    },
    "language_info": {
      "codemirror_mode": {
        "name": "ipython",
        "version": 3
      },
      "file_extension": ".py",
      "mimetype": "text/x-python",
      "name": "python",
      "nbconvert_exporter": "python",
      "pygments_lexer": "ipython3",
      "version": "3.11.8"
    }
  },
  "nbformat": 4,
  "nbformat_minor": 0
}